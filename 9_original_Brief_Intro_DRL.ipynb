{
 "cells": [
  {
   "cell_type": "markdown",
   "metadata": {
    "id": "bBBdgAwBY6yU"
   },
   "source": [
    "# A very brief introduction to Deep Reinforcement Learning"
   ]
  },
  {
   "cell_type": "markdown",
   "metadata": {
    "id": "NEwBRJqcZRIS"
   },
   "source": [
    "Consider an **agent** whose goal is to solve a given problem: finding its way through a maze, finding the best way to solve a logistics problem, learning how to play games (Atari or other digital games, or strategy games like Chess and Go), finding the 3d dimensional structure of proteins, or turning a Large Language Model from an incoherent and rude \"blabbermouth\" into a coherent an polite language generator.\n",
    "\n",
    "In Reinforcement Learning (RL) such problems need to be solved by exploring a given environment: the agent is able to probe the environment by observing its states (that might only contain partial information) and by using a set of actions that (typically) change the state of the environment; moreover, the agent receives stimuli from the environment, in the form of rewards, that depend on the chosen action and state achieved.     "
   ]
  },
  {
   "cell_type": "markdown",
   "metadata": {
    "id": "t2WlC7c3hcXo"
   },
   "source": [
    "To simplify things, let's only consider the case where there is only a finite **observation space**, i.e., a finite set of states\n",
    "\n",
    "$${\\cal S} = \\{s_1,\\ldots,s_N\\}\\;,$$\n",
    "\n",
    "and a finite set of actions, independent of the state,\n",
    "\n",
    "$${\\cal A}=\\{a_1,\\ldots,a_M\\}\\;.$$\n",
    "\n",
    "We will also assume that by taking action $a_i$ in state $s_j$ the agent gets a reward\n",
    "\n",
    "$$R(a_i,s_j) \\in \\mathbb{R}\\;.$$\n",
    "\n",
    "Each agent acts according to a **policy**, that corresponds to a choice of action given the observed state\n",
    "\n",
    "$$\\pi: {\\cal S}\\rightarrow {\\cal A}\\;.$$\n",
    "\n",
    "We will consider discrete time, finite horizon games, i.e., games where the actions are taken in separate moments in time and finish at time $T\\in \\mathbb{Z}^+$. In such a case we can take the sequence of moments to be $\\{0,1,\\ldots,T\\}$, and given a policy $\\pi$ the agent will receive a sequence of rewards $\\{R_{\\pi}(0),\\ldots, R_{\\pi}(T)\\}$ with a combined **discounted return** of\n",
    "\n",
    "$$G_{\\pi} = R_{\\pi}(0)+ \\gamma R_{\\pi}(1) + \\gamma^2 R_{\\pi}(2) + \\cdots + \\gamma^T R_{\\pi}(T) = \\sum_{t=0}^{T} \\gamma^t R_{\\pi}(t)\\;,$$\n",
    "\n",
    "where we have included a discount factor $0<\\gamma \\leq 1$. If $\\gamma < 1$, the goal of the discount factor is to make future rewards less relevant to the agent's decisions at times $t< T$.   \n",
    "\n",
    "Naturally, the goal of the agent is to find an optimal policy $\\pi^*$, i.e., a policy that maximizes the return\n",
    "\n",
    "$$G_{\\pi^*} = \\max_{\\pi} G_{\\pi}\\,.$$\n",
    "\n",
    "This setting can be generalized to a stochastic context, where taking a given action does not lead to a determined (next) state but instead gives rise to a probability distribution over the states. In such a case, the rewards become random variables, and the return is then given by an expectation value. To simplify our presentation, we'll not formalize this important generalization.\n",
    "\n",
    "\n",
    "\n"
   ]
  },
  {
   "cell_type": "markdown",
   "metadata": {
    "id": "9yucOHj7-Qzm"
   },
   "source": [
    "We'll now explore some of the previous concepts in Gymnasium \"An API standard for reinforcement learning with a diverse collection of reference environments\"\n",
    "https://gymnasium.farama.org/index.html\n",
    "\n",
    "To start let's consider Frozen Lake https://gymnasium.farama.org/environments/toy_text/frozen_lake/"
   ]
  },
  {
   "cell_type": "code",
   "execution_count": 10,
   "metadata": {
    "id": "DBy3uuKRhbDx"
   },
   "outputs": [],
   "source": [
    "import gymnasium as gym\n",
    "\n",
    "ENV_NAME = \"FrozenLake-v1\"\n",
    "env = gym.make(ENV_NAME, is_slippery=False)"
   ]
  },
  {
   "cell_type": "markdown",
   "metadata": {
    "id": "O8apnz0N_T-W"
   },
   "source": [
    "In this case the observation space has 16 states coded by a disctinct integer."
   ]
  },
  {
   "cell_type": "code",
   "execution_count": 11,
   "metadata": {
    "colab": {
     "base_uri": "https://localhost:8080/"
    },
    "executionInfo": {
     "elapsed": 19,
     "status": "ok",
     "timestamp": 1747404034134,
     "user": {
      "displayName": "João Costa",
      "userId": "03431830090646328815"
     },
     "user_tz": -60
    },
    "id": "5H-MvnvWY0bP",
    "outputId": "ee1833a5-21aa-49f5-be80-ad3899c05a4c"
   },
   "outputs": [
    {
     "data": {
      "text/plain": [
       "Discrete(16)"
      ]
     },
     "execution_count": 11,
     "metadata": {},
     "output_type": "execute_result"
    }
   ],
   "source": [
    "env.observation_space"
   ]
  },
  {
   "cell_type": "markdown",
   "metadata": {
    "id": "xhYy3sEV_uUC"
   },
   "source": [
    "There are 4 actions,\n",
    "\n",
    "    0: Move left\n",
    "\n",
    "    1: Move down\n",
    "\n",
    "    2: Move right\n",
    "\n",
    "    3: Move up\n"
   ]
  },
  {
   "cell_type": "code",
   "execution_count": 12,
   "metadata": {
    "colab": {
     "base_uri": "https://localhost:8080/"
    },
    "executionInfo": {
     "elapsed": 21,
     "status": "ok",
     "timestamp": 1747404037928,
     "user": {
      "displayName": "João Costa",
      "userId": "03431830090646328815"
     },
     "user_tz": -60
    },
    "id": "-KDKz9uT_QHt",
    "outputId": "c57b2add-2e4f-431a-e3f4-98106bea45d2"
   },
   "outputs": [
    {
     "data": {
      "text/plain": [
       "Discrete(4)"
      ]
     },
     "execution_count": 12,
     "metadata": {},
     "output_type": "execute_result"
    }
   ],
   "source": [
    "env.action_space"
   ]
  },
  {
   "cell_type": "code",
   "execution_count": 13,
   "metadata": {
    "colab": {
     "base_uri": "https://localhost:8080/"
    },
    "executionInfo": {
     "elapsed": 3,
     "status": "ok",
     "timestamp": 1747404073711,
     "user": {
      "displayName": "João Costa",
      "userId": "03431830090646328815"
     },
     "user_tz": -60
    },
    "id": "FZhxWjLA2fV-",
    "outputId": "36ff34b8-9ec2-435e-b944-b3d9267ea38f"
   },
   "outputs": [
    {
     "data": {
      "text/plain": [
       "np.int64(3)"
      ]
     },
     "execution_count": 13,
     "metadata": {},
     "output_type": "execute_result"
    }
   ],
   "source": [
    "# generate a random action\n",
    "env.action_space.sample()"
   ]
  },
  {
   "cell_type": "markdown",
   "metadata": {
    "id": "Uslx3CWQAOAi"
   },
   "source": [
    "In this case, when we reset the environment we always start in the \"first\" position. in other cases the envoronment can reset at different states."
   ]
  },
  {
   "cell_type": "code",
   "execution_count": 14,
   "metadata": {
    "colab": {
     "base_uri": "https://localhost:8080/"
    },
    "executionInfo": {
     "elapsed": 8,
     "status": "ok",
     "timestamp": 1747404290025,
     "user": {
      "displayName": "João Costa",
      "userId": "03431830090646328815"
     },
     "user_tz": -60
    },
    "id": "X6lmIlgH_bNC",
    "outputId": "899c30ad-82bc-481c-8d69-46fe776e7257"
   },
   "outputs": [
    {
     "data": {
      "text/plain": [
       "0"
      ]
     },
     "execution_count": 14,
     "metadata": {},
     "output_type": "execute_result"
    }
   ],
   "source": [
    "obs,_ = env.reset()\n",
    "obs"
   ]
  },
  {
   "cell_type": "markdown",
   "metadata": {
    "id": "Dc-eDfDM2-5M"
   },
   "source": [
    "Taking an action results in a new-state, a reward and information concerning if we reached the end of the game, either because we've achieved and end state or reached a maximum number of allowed steps.  "
   ]
  },
  {
   "cell_type": "code",
   "execution_count": 15,
   "metadata": {
    "colab": {
     "base_uri": "https://localhost:8080/"
    },
    "executionInfo": {
     "elapsed": 11,
     "status": "ok",
     "timestamp": 1747404163384,
     "user": {
      "displayName": "João Costa",
      "userId": "03431830090646328815"
     },
     "user_tz": -60
    },
    "id": "qZkMSMYM2pQT",
    "outputId": "19d57ac1-7c03-4a81-8d7b-a036c7a160aa"
   },
   "outputs": [
    {
     "name": "stdout",
     "output_type": "stream",
     "text": [
      "0 0.0 False False\n"
     ]
    }
   ],
   "source": [
    "action = 3\n",
    "new_state, reward, is_done, is_trunc, _ = env.step(action)\n",
    "print(new_state, reward, is_done, is_trunc)"
   ]
  },
  {
   "cell_type": "markdown",
   "metadata": {
    "id": "yC9y72md4D1q"
   },
   "source": [
    "Let's create agents that play randomly and collect the corresponding rewards.  "
   ]
  },
  {
   "cell_type": "code",
   "execution_count": 16,
   "metadata": {
    "id": "1lERIBbTAiPH"
   },
   "outputs": [],
   "source": [
    "class Agent_Random:\n",
    "    def __init__(self):\n",
    "        self.total_reward = 0.0\n",
    "\n",
    "    def step(self, env):\n",
    "        action = env.action_space.sample()\n",
    "        new_state, reward, is_done, is_trunc, _ = env.step(action)\n",
    "        self.total_reward += reward\n",
    "        return  new_state, reward, is_done, is_trunc"
   ]
  },
  {
   "cell_type": "code",
   "execution_count": 17,
   "metadata": {
    "colab": {
     "base_uri": "https://localhost:8080/"
    },
    "collapsed": true,
    "executionInfo": {
     "elapsed": 8,
     "status": "ok",
     "timestamp": 1747404278928,
     "user": {
      "displayName": "João Costa",
      "userId": "03431830090646328815"
     },
     "user_tz": -60
    },
    "id": "ixV2I8Vq5u4J",
    "outputId": "3eb8afd7-6319-494b-bf38-7e876b9302a0"
   },
   "outputs": [
    {
     "name": "stdout",
     "output_type": "stream",
     "text": [
      "1 0.0 False False\n",
      "1 0.0 False False\n",
      "5 0.0 True False\n"
     ]
    },
    {
     "data": {
      "text/plain": [
       "0.0"
      ]
     },
     "execution_count": 17,
     "metadata": {},
     "output_type": "execute_result"
    }
   ],
   "source": [
    "ENV_NAME = \"FrozenLake-v1\"\n",
    "env = gym.make(ENV_NAME)\n",
    "\n",
    "agent = Agent_Random()\n",
    "\n",
    "env.reset()\n",
    "done = False\n",
    "\n",
    "while not done:\n",
    "  new_state, reward, is_done, is_trunc  = agent.step(env)\n",
    "  print(new_state, reward, is_done, is_trunc)\n",
    "  done = is_done or is_trunc\n",
    "\n",
    "agent.total_reward"
   ]
  },
  {
   "cell_type": "markdown",
   "metadata": {
    "id": "YVkze7qn67Oo"
   },
   "source": [
    "We'll now visualize our agent in action"
   ]
  },
  {
   "cell_type": "code",
   "execution_count": 18,
   "metadata": {
    "colab": {
     "base_uri": "https://localhost:8080/",
     "height": 543
    },
    "collapsed": true,
    "executionInfo": {
     "elapsed": 125,
     "status": "ok",
     "timestamp": 1747404429841,
     "user": {
      "displayName": "João Costa",
      "userId": "03431830090646328815"
     },
     "user_tz": -60
    },
    "id": "p1SO50c86mJY",
    "outputId": "f8802b22-f8ea-4145-9eb6-43da12e5d450"
   },
   "outputs": [
    {
     "name": "stderr",
     "output_type": "stream",
     "text": [
      "/mnt/DataDisk/PersonalFiles/2025/Masters/FMAP -  Fundamentos Matemáticos para Aprendizagem Profunda/FMAP-Project/.venv/lib/python3.12/site-packages/pygame/pkgdata.py:25: UserWarning: pkg_resources is deprecated as an API. See https://setuptools.pypa.io/en/latest/pkg_resources.html. The pkg_resources package is slated for removal as early as 2025-11-30. Refrain from using this package or pin to Setuptools<81.\n",
      "  from pkg_resources import resource_stream, resource_exists\n"
     ]
    },
    {
     "name": "stdout",
     "output_type": "stream",
     "text": [
      "4 0.0 False False\n",
      "0 0.0 False False\n",
      "1 0.0 False False\n",
      "2 0.0 False False\n",
      "1 0.0 False False\n",
      "1 0.0 False False\n",
      "2 0.0 False False\n",
      "1 0.0 False False\n",
      "2 0.0 False False\n",
      "2 0.0 False False\n",
      "2 0.0 False False\n",
      "3 0.0 False False\n",
      "2 0.0 False False\n",
      "6 0.0 False False\n",
      "5 0.0 True False\n"
     ]
    },
    {
     "data": {
      "text/html": [
       "\n",
       "<video width=400 controls>\n",
       "    <source src=\"data:video/mp4;base64,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\" type=\"video/mp4\">\n",
       "</video>\n"
      ],
      "text/plain": [
       "<IPython.core.display.HTML object>"
      ]
     },
     "execution_count": 18,
     "metadata": {},
     "output_type": "execute_result"
    }
   ],
   "source": [
    "import gymnasium as gym\n",
    "import imageio\n",
    "\n",
    "env = gym.make(ENV_NAME, render_mode=\"rgb_array\", is_slippery=False)\n",
    "obs, _ = env.reset(seed=0)\n",
    "done = False\n",
    "frames = []\n",
    "\n",
    "while not done:\n",
    "    frames.append(env.render())\n",
    "    new_state, reward, is_done, is_trunc  = agent.step(env)\n",
    "    print(new_state, reward, is_done, is_trunc)\n",
    "    done =  is_done or is_trunc\n",
    "frames.append(env.render())\n",
    "\n",
    "env.close()\n",
    "\n",
    "# Save to video\n",
    "imageio.mimsave(\"pong_video.mp4\", frames, fps=5)\n",
    "\n",
    "# Show video\n",
    "from IPython.display import HTML\n",
    "from base64 import b64encode\n",
    "\n",
    "mp4 = open(\"pong_video.mp4\", 'rb').read()\n",
    "data_url = \"data:video/mp4;base64,\" + b64encode(mp4).decode()\n",
    "\n",
    "HTML(f\"\"\"\n",
    "<video width=400 controls>\n",
    "    <source src=\"{data_url}\" type=\"video/mp4\">\n",
    "</video>\n",
    "\"\"\")"
   ]
  },
  {
   "cell_type": "markdown",
   "metadata": {
    "id": "veBCQ2cL8FCi"
   },
   "source": [
    "**Exercise**: Build a class whose agents always choose to go left. And another whose agents choose left 50% of the time and right the other 50%.\n",
    "\n",
    "**Exercise**: Change the environment to \"Taxi-v3\"."
   ]
  },
  {
   "cell_type": "markdown",
   "metadata": {
    "id": "tlvVsQsJ9M8W"
   },
   "source": [
    "To see how an agent can learn an optimal policy, we will very briefly recall the idea of **value function** and the fundamental result captured by **Bellman's equation**.\n",
    "\n",
    "Given a discount factor $\\gamma\\in]0,1]$ and a policy\n",
    "$\\pi:{\\cal S}\\rightarrow {\\cal A}$, we define the associated (state-action) value function to be the function\n",
    "\n",
    "$$Q_{\\pi}:{\\cal S}\\times{\\cal A}\\rightarrow \\mathbb{R}$$\n",
    "\n",
    "such that $Q_{\\pi}(s,a)$ *equals the (expected) discounted reward obtained by choosing action $a$ at state $s$ and then following policy $\\pi$ until the end of the game*.\n",
    "\n",
    "Now consider the value function $Q = Q_{\\pi^*}$ associated with an optimal policy $\\pi^*$. A fundamental mathematical result underlying important achievements in RL is the fact that (the optimal) $Q$ is a solution of Bellman's equation\n",
    "\n",
    "$$ Q(s,a) = R(s,a) + \\max_{a'\\in {\\cal A}} Q(s',a') \\;, $$\n",
    "\n",
    "where $s'$ is the state reached from state $s$, by taking action $a$. Once again, we are simplifying the presentation by only considering the deterministic setup."
   ]
  },
  {
   "cell_type": "markdown",
   "metadata": {
    "id": "Kaug7ZYaC5pT"
   },
   "source": [
    "# Q - tabular learning\n",
    "\n",
    "We'll now describe an implementation of the Q-tabular learning algorithm, following the presentation in Chapter 5 of Lapan's \"Deep Reinforcement Learning Hands On - Third Edition\".\n",
    "\n",
    "\n",
    "1. The idea for this algorithm is to construct a double entry table for the $Q$ values (we'll use a dictionary with keys (state,action) and values equal to the Q-values).  \n",
    "\n",
    "2. In the beginning, our values dictionary is empty because our agent doesn't know anything about the environment.\n",
    "\n",
    "3. To learn about the environment, in each step, the agent performs a random action and records the corresponding transition information in a tuple $(s,a,r,s')=$(state, action, reward, new_state).\n",
    "\n",
    "4. Then it updates the $Q$ value using this new information, by using the rule\n",
    "\n",
    "$$Q(s,a) \\leftarrow (1-\\alpha)Q(s,a) + \\alpha (r + \\gamma\\max_{a'}Q(s',a'))\\;.$$\n",
    "\n",
    "For $\\alpha=1$ the update rule corresponds to a fixed point iteration of Bellman's equation (for which there are very useful convergence results); the inclusion of an $\\alpha\\in ]0,1]$ is useful, in practice, as it provides numerical stability.\n",
    "\n",
    "5. After a fixed number of iterations (TEST_TIME) of the previous two steps, we test how well our agent as learned. This is done by playing a given number (TEST_EPISODES) of complete episodes/games and checking if the average discounted return achieves a fixed threshold (MEAN_REWARD_GOAL). If that is the case, we stop training; otherwise, we return to step 2."
   ]
  },
  {
   "cell_type": "code",
   "execution_count": 19,
   "metadata": {
    "id": "Sb3EuaVu7zBo"
   },
   "outputs": [
    {
     "name": "stderr",
     "output_type": "stream",
     "text": [
      "2025-06-27 20:54:44.557843: E external/local_xla/xla/stream_executor/cuda/cuda_fft.cc:467] Unable to register cuFFT factory: Attempting to register factory for plugin cuFFT when one has already been registered\n",
      "WARNING: All log messages before absl::InitializeLog() is called are written to STDERR\n",
      "E0000 00:00:1751054084.595380  475401 cuda_dnn.cc:8579] Unable to register cuDNN factory: Attempting to register factory for plugin cuDNN when one has already been registered\n",
      "E0000 00:00:1751054084.604014  475401 cuda_blas.cc:1407] Unable to register cuBLAS factory: Attempting to register factory for plugin cuBLAS when one has already been registered\n",
      "W0000 00:00:1751054084.651514  475401 computation_placer.cc:177] computation placer already registered. Please check linkage and avoid linking the same target more than once.\n",
      "W0000 00:00:1751054084.651532  475401 computation_placer.cc:177] computation placer already registered. Please check linkage and avoid linking the same target more than once.\n",
      "W0000 00:00:1751054084.651534  475401 computation_placer.cc:177] computation placer already registered. Please check linkage and avoid linking the same target more than once.\n",
      "W0000 00:00:1751054084.651535  475401 computation_placer.cc:177] computation placer already registered. Please check linkage and avoid linking the same target more than once.\n",
      "2025-06-27 20:54:44.659464: I tensorflow/core/platform/cpu_feature_guard.cc:210] This TensorFlow binary is optimized to use available CPU instructions in performance-critical operations.\n",
      "To enable the following instructions: AVX2 FMA, in other operations, rebuild TensorFlow with the appropriate compiler flags.\n"
     ]
    }
   ],
   "source": [
    "import typing as tt\n",
    "import gymnasium as gym\n",
    "from collections import defaultdict, Counter\n",
    "from torch.utils.tensorboard.writer import SummaryWriter"
   ]
  },
  {
   "cell_type": "code",
   "execution_count": 20,
   "metadata": {
    "id": "YTUDIGigDOwr"
   },
   "outputs": [],
   "source": [
    "State = int\n",
    "Action = int\n",
    "ValuesKey = tt.Tuple[State, Action]\n",
    "\n",
    "class Agent:\n",
    "  def __init__(self, env):\n",
    "      self.env = env\n",
    "      self.state, _ = self.env.reset()\n",
    "      self.values: tt.Dict[ValuesKey, float] = defaultdict(float)\n",
    "\n",
    "\n",
    "  def sample_env(self) -> tt.Tuple[State, Action, float, State]:\n",
    "      action = self.env.action_space.sample()\n",
    "      old_state = self.state\n",
    "      new_state, reward, is_done, is_trunc, _ = self.env.step(action)\n",
    "      if is_done or is_trunc:\n",
    "        self.state, _ = self.env.reset()\n",
    "      else:\n",
    "        self.state = new_state\n",
    "      return old_state, action, float(reward), new_state\n",
    "\n",
    "  def best_value_and_action(self, state: State) -> tt.Tuple[float, State]:\n",
    "    best_action, best_value = None, None\n",
    "    for action in range(self.env.action_space.n):\n",
    "      action_value = self.values[(state, action)]\n",
    "      if best_value is None or best_value < action_value:\n",
    "          best_value = action_value\n",
    "          best_action = action\n",
    "    return best_value, best_action\n",
    "\n",
    "  def value_update(self, state: State, action: Action, reward: float, next_state: State):\n",
    "      best_value, _ = self.best_value_and_action(next_state)\n",
    "      new_value = reward + GAMMA*best_value\n",
    "      old_value = self.values[(state, action)]\n",
    "      self.values[(state, action)] = (1-ALPHA)*old_value + ALPHA*new_value\n",
    "\n",
    "  def play_episode(self, env: gym.Env) -> float:\n",
    "    total_reward = 0.0\n",
    "    state, _ = env.reset()\n",
    "    while True:\n",
    "        _ , best_action = self.best_value_and_action(state)\n",
    "        new_state, reward, is_done, is_trunc, _ = env.step(best_action)\n",
    "        total_reward += reward\n",
    "        if is_done or is_trunc:\n",
    "          break\n",
    "        state = new_state\n",
    "    return total_reward"
   ]
  },
  {
   "cell_type": "code",
   "execution_count": 21,
   "metadata": {
    "colab": {
     "base_uri": "https://localhost:8080/"
    },
    "collapsed": true,
    "executionInfo": {
     "elapsed": 11296,
     "status": "ok",
     "timestamp": 1747409853719,
     "user": {
      "displayName": "João Costa",
      "userId": "03431830090646328815"
     },
     "user_tz": -60
    },
    "id": "bZ_pdtnPDZLh",
    "outputId": "4884a8e5-f110-41e7-daea-f54c1183fc35"
   },
   "outputs": [
    {
     "ename": "SyntaxError",
     "evalue": "unmatched ')' (4258977922.py, line 5)",
     "output_type": "error",
     "traceback": [
      "  \u001b[36mCell\u001b[39m\u001b[36m \u001b[39m\u001b[32mIn[21]\u001b[39m\u001b[32m, line 5\u001b[39m\n\u001b[31m    \u001b[39m\u001b[31menv = gym.make(ENV_NAME), is_slippery = False)\u001b[39m\n                                                 ^\n\u001b[31mSyntaxError\u001b[39m\u001b[31m:\u001b[39m unmatched ')'\n"
     ]
    }
   ],
   "source": [
    "# If ENV_NAME is \"FrozenLake-v1\", add \"is_slippery = False\" ...\n",
    "#... to env constructor to obtain a deterministic game.\n",
    "\n",
    "ENV_NAME =   \"FrozenLake-v1\" # \"Taxi-v3\"\n",
    "env = gym.make(ENV_NAME), is_slippery = False)\n",
    "test_env = gym.make(ENV_NAME), is_slippery = False)\n",
    "agent = Agent(env)\n",
    "\n",
    "GAMMA = 0.9\n",
    "ALPHA = 0.2\n",
    "TEST_EPISODES = 20\n",
    "MEAN_REWARD_GOAL = .8\n",
    "TEST_TIME = 3000\n",
    "\n",
    "iter_no = 0\n",
    "best_reward = 0.0\n",
    "while True:\n",
    "  iter_no += 1\n",
    "  state, action, reward, next_state = agent.sample_env()\n",
    "  agent.value_update(state, action, reward, next_state)\n",
    "  if iter_no % TEST_TIME == 0:\n",
    "    print(f\"iter_no={iter_no}\")\n",
    "    reward = 0.0\n",
    "    for _ in range(TEST_EPISODES):\n",
    "      reward += agent.play_episode(test_env)\n",
    "    reward /= TEST_EPISODES\n",
    "    if reward > best_reward:\n",
    "        print(f\"{iter_no}: Best reward updated {best_reward:.3} -> {reward:.3}\")\n",
    "        best_reward = reward\n",
    "    if reward > MEAN_REWARD_GOAL:\n",
    "        print(\"Solved in %d iterations!\" % iter_no)\n",
    "        break"
   ]
  },
  {
   "cell_type": "markdown",
   "metadata": {
    "id": "uVRvOOEbECQ6"
   },
   "source": [
    "Let's see our optimal agent in action."
   ]
  },
  {
   "cell_type": "code",
   "execution_count": null,
   "metadata": {
    "colab": {
     "base_uri": "https://localhost:8080/",
     "height": 310
    },
    "collapsed": true,
    "executionInfo": {
     "elapsed": 421,
     "status": "ok",
     "timestamp": 1747409948943,
     "user": {
      "displayName": "João Costa",
      "userId": "03431830090646328815"
     },
     "user_tz": -60
    },
    "id": "KzmX7_aEEOV5",
    "outputId": "6c3b8d65-eefb-4e54-f2bd-d25420f1d725"
   },
   "outputs": [],
   "source": [
    "import gymnasium as gym\n",
    "import imageio\n",
    "\n",
    "env = gym.make(ENV_NAME, render_mode=\"rgb_array\", is_slippery = False)\n",
    "state, _ = env.reset()\n",
    "done = False\n",
    "frames = []\n",
    "\n",
    "while not done:\n",
    "    frames.append(env.render())\n",
    "    #\n",
    "    best_value, best_action = agent.best_value_and_action(state)\n",
    "    new_state, reward, is_done, is_trunc, _ = env.step(best_action)\n",
    "    #\n",
    "    # to compare with random agent, comment the previous 2 lines and uncomment the next 2\n",
    "    #\n",
    "    #random_action = env.action_space.sample()\n",
    "    #new_state, reward, is_done, is_trunc, _ = env.step(random_action)\n",
    "    #\n",
    "    done =  is_done or is_trunc\n",
    "    state = new_state\n",
    "frames.append(env.render())\n",
    "\n",
    "env.close()\n",
    "\n",
    "# Save to video\n",
    "imageio.mimsave(\"pong_video.mp4\", frames, fps=5)\n",
    "\n",
    "# Show video\n",
    "from IPython.display import HTML\n",
    "from base64 import b64encode\n",
    "\n",
    "mp4 = open(\"pong_video.mp4\", 'rb').read()\n",
    "data_url = \"data:video/mp4;base64,\" + b64encode(mp4).decode()\n",
    "\n",
    "HTML(f\"\"\"\n",
    "<video width=400 controls>\n",
    "    <source src=\"{data_url}\" type=\"video/mp4\">\n",
    "</video>\n",
    "\"\"\")"
   ]
  },
  {
   "cell_type": "markdown",
   "metadata": {
    "id": "2_yxCfjvnS_I"
   },
   "source": [
    "# Deep Q Learning.  "
   ]
  },
  {
   "cell_type": "markdown",
   "metadata": {
    "id": "U9p2ibhhp-ta"
   },
   "source": [
    "If the number of states becomes too large, tabular learning becomes unfeasible. A way to circumvent this problem is to model $Q$ as a deep neural network that receives as inputs the state and the action, and outputs the corresponding $Q$ value. The parameters of this network can then be learned via gradient descent by considering a loss that measures how far $Q$ is from satisfying Bellman's equation.\n",
    "\n",
    "This is the basic conceptual idea behind the major breakthrough made in 2013 by a team from DeepMind https://arxiv.org/abs/1312.5602, which allowed them to train a DQN (Deep Q Network) to play several Atari games; in fact, the networke learned \"by itself\" starting from the pixel data of the frames of the computer games. This remarkable breakthrough was the starting point to a spectacular series of achievements that included mastering high-complexity strategy games such as chess and Go, and most importantly, the computation of the 3D structure of proteins https://www.nobelprize.org/prizes/chemistry/2024/summary/.  "
   ]
  },
  {
   "cell_type": "markdown",
   "metadata": {
    "id": "AappnB_LtXdi"
   },
   "source": [
    "A naive version of the DQN algorithm allude to above, can be summarizes as follows:\n",
    "\n",
    "1. Initialize $Q(s, a)$ using a standard deep learning initialization.\n",
    "\n",
    "2. By interacting with the environment, obtain the tuple $(s, a, r, s')$.\n",
    "\n",
    "3. Compute the loss:\n",
    "\n",
    "$${\\cal L} =\n",
    "\\left\\{\n",
    "\\begin{array}{l}\n",
    " (Q(s, a) - r)^2  \\quad,\\text{ if episode ended}\\;, \\\\\n",
    " (Q(s, a) - (r + \\gamma \\max_{a'} Q(s' ,a'))^2 \\quad, \\text{ otherwise} \\;.\n",
    "\\end{array}\n",
    "\\right.\n",
    "$$\n",
    "\n",
    "4. Update $Q(s, a)$ using an appropriate gradient descent based algorithm, to minimize the loss with respect to the $Q$ model parameters.\n",
    "\n",
    "5. Repeat from step 2 until convergence (in the sense described for tabular-$Q$ learning) is achieved."
   ]
  },
  {
   "cell_type": "markdown",
   "metadata": {
    "id": "wCs21Aj2b50h"
   },
   "source": [
    "We'll now focus on a single Atari game, the iconic Pong https://ale.farama.org/environments/pong/."
   ]
  },
  {
   "cell_type": "code",
   "execution_count": null,
   "metadata": {
    "colab": {
     "base_uri": "https://localhost:8080/"
    },
    "collapsed": true,
    "executionInfo": {
     "elapsed": 101653,
     "status": "ok",
     "timestamp": 1747589553167,
     "user": {
      "displayName": "João Costa",
      "userId": "03431830090646328815"
     },
     "user_tz": -60
    },
    "id": "PhOeajsRcnXZ",
    "outputId": "da34f50d-6001-4f53-8d5b-17f8a3ccb177"
   },
   "outputs": [],
   "source": [
    "!pip install 'stable_baselines3'"
   ]
  },
  {
   "cell_type": "code",
   "execution_count": null,
   "metadata": {
    "colab": {
     "base_uri": "https://localhost:8080/",
     "height": 270
    },
    "executionInfo": {
     "elapsed": 205,
     "status": "ok",
     "timestamp": 1747589719453,
     "user": {
      "displayName": "João Costa",
      "userId": "03431830090646328815"
     },
     "user_tz": -60
    },
    "id": "MZeLCmSQb5IR",
    "outputId": "f41ed308-a128-45c7-c3e0-9fc2f51929a0"
   },
   "outputs": [],
   "source": [
    "import gymnasium as gym\n",
    "from gymnasium import spaces\n",
    "from stable_baselines3.common import atari_wrappers\n",
    "import ale_py\n",
    "\n",
    "env = gym.make(\"PongNoFrameskip-v4\", render_mode=\"rgb_array\")\n",
    "\n",
    "obs,_ = env.reset()\n",
    "\n",
    "print(obs.shape)\n",
    "\n",
    "env.render()"
   ]
  },
  {
   "cell_type": "markdown",
   "metadata": {
    "id": "wbSoytnibWas"
   },
   "source": [
    "Unfortunately, the previous version of DQN doesn't work very well. So we need to do perform some upgrades.\n",
    "\n",
    "- On one hand, we need to explore the environment (using random actions); on the other, we want to use the knowledge gained by the $Q$-function; this is the famous \"exploration versus exploitation dilemma\".  We will resolve this dilemma by introducing a parameter $\\epsilon\\in[0,1]$, that will decrease with the number of iterations, and will be used to decide, with probability $\\epsilon$, if the agent will take a random action or will choose the action prescribed by $Q$.\n",
    "\n",
    "- We will also introduce a **replay buffer**. This will store a \"large\" number of transitions $(s, a, r, s')$ that will be used to construct training data batches to update the parameters of $Q$ using gradient descent.\n",
    "\n",
    "- Finally, using $Q$ itself to generate the targets for the loss will make the training very unstable. To circumvent this problem, we will introduce another DQN $\\hat Q$, called the **target network**, that is periodically synchronized with the main $Q$ network, but otherwise remains unchanged for a given number of iterations.   \n",
    "\n"
   ]
  },
  {
   "cell_type": "markdown",
   "metadata": {
    "id": "_zfjMdN1OO5S"
   },
   "source": [
    "Upgraded DQN algorithm:  \n",
    "\n",
    "1. Initialize parameters for $Q(s,a)$ and $\\hat Q(s,a)$,$\\;\\epsilon \\leftarrow 1.0$, and empty the replay buffer.\n",
    "\n",
    "2. With probability $\\epsilon$, select a random action $a$; otherwise, $a = \\text{argmax}_a Q(s, a)$.\n",
    "\n",
    "3. Execute action $a$ in an emulator and observe the reward, $r$, and the next state, $s'$.\n",
    "\n",
    "4. Store the transition $(s, a, r, s')$ in the replay buffer.\n",
    "\n",
    "5. Sample a random mini-batch of transitions from the replay buffer.\n",
    "\n",
    "6. For every transition in the buffer, calculate the target:\n",
    "\n",
    "$$\n",
    "y =\n",
    "\\left\\{\n",
    "\\begin{array}{l}\n",
    " r  \\quad,\\text{ if episode ended}\\;, \\\\\n",
    " r + \\gamma \\max_{a'} Q(s' ,a') \\quad, \\text{ otherwise} \\;.\n",
    "\\end{array}\n",
    "\\right.\n",
    "$$\n",
    "\n",
    "7. Calculatetheloss: ${\\cal L}=(Q(s,a)-y)^2.\n",
    "\n",
    "8. Update $Q(s, a)$ using an appropriate gradient descent based algorithm, to minimize the loss with respect to the $Q$ model parameters.\n",
    "\n",
    "9. Repeat from step 2 until convergence (in the sense described before) is achieved.\n"
   ]
  },
  {
   "cell_type": "markdown",
   "metadata": {
    "id": "f7UB14l5VB7d"
   },
   "source": [
    "We will now present the Lapan's implementation of this algorithm, as exposed in chapter 6 of his book; see also\n",
    "https://github.com/PacktPublishing/Deep-Reinforcement-Learning-Hands-On-Third-Edition.\n",
    "\n",
    "Note that Lapan uses PyTorch to implement the DQNs. It is a quite instructive exercise to translate the code to tensorflow/keras.  "
   ]
  },
  {
   "cell_type": "markdown",
   "metadata": {
    "id": "xpamMumdWN-r"
   },
   "source": [
    "# **Wrappers:** For efficiency and conceptual reasons, we need to preprocess the environment. For instance:\n",
    "\n",
    "- We can reduce the game frames by considering only a monochromatic version of them and a lower resolution. This is \"hidden\" in the *atari_wrappers.AtariWrapper* class. After applying this, our images will have a shape of $(84,84,1)$; recall that originally they had a shape equal to $(210,160,3)$. Note that this class takes care of a lot of more relevant preprocessing details (see Chapter 6 of Lapan's book for more details).   \n",
    "\n",
    "- This isn't the way PyTorch is designed to receive information; it expects the form (channels, height, width). The ImageToPyTorch wrapper, presented below, takes care of this.\n",
    "\n",
    "- The agent won't be able to learn how to play Pong if we only provide still images of the game. To learn how to play Pong, we need to learn about dynamics. So we need to pack a given number (n_steps) of consecutive images into a \"small video\" with n_steps frames. This is taken care of by the BufferWrapper (see below).\n",
    "\n",
    "Here is the code for the wrappers.  "
   ]
  },
  {
   "cell_type": "code",
   "execution_count": null,
   "metadata": {
    "id": "JlM3EYsxZFQg"
   },
   "outputs": [],
   "source": [
    "class ImageToPyTorch(gym.ObservationWrapper):\n",
    "    def __init__(self, env):\n",
    "        super(ImageToPyTorch, self).__init__(env)\n",
    "        obs = self.observation_space\n",
    "        assert isinstance(obs, gym.spaces.Box)\n",
    "        assert len(obs.shape) == 3\n",
    "        new_shape = (obs.shape[-1], obs.shape[0], obs.shape[1])\n",
    "        self.observation_space = gym.spaces.Box(\n",
    "            low=obs.low.min(), high=obs.high.max(),\n",
    "            shape=new_shape, dtype=obs.dtype)\n",
    "\n",
    "    def observation(self, observation):\n",
    "        return np.moveaxis(observation, 2, 0)\n",
    "\n",
    "\n",
    "class BufferWrapper(gym.ObservationWrapper):\n",
    "    def __init__(self, env, n_steps):\n",
    "        super(BufferWrapper, self).__init__(env)\n",
    "        obs = env.observation_space\n",
    "        assert isinstance(obs, spaces.Box)\n",
    "        new_obs = gym.spaces.Box(\n",
    "            obs.low.repeat(n_steps, axis=0), obs.high.repeat(n_steps, axis=0),\n",
    "            dtype=obs.dtype)\n",
    "        self.observation_space = new_obs\n",
    "        self.buffer = collections.deque(maxlen=n_steps)\n",
    "\n",
    "    def reset(self, *, seed: tt.Optional[int] = None, options: tt.Optional[dict[str, tt.Any]] = None):\n",
    "        for _ in range(self.buffer.maxlen-1):\n",
    "            self.buffer.append(self.env.observation_space.low)\n",
    "        obs, extra = self.env.reset()\n",
    "        return self.observation(obs), extra\n",
    "\n",
    "    def observation(self, observation: np.ndarray) -> np.ndarray:\n",
    "        self.buffer.append(observation)\n",
    "        return np.concatenate(self.buffer)\n",
    "\n",
    "\n",
    "def make_env(env_name: str, **kwargs):\n",
    "    env = gym.make(env_name, **kwargs)\n",
    "    env = atari_wrappers.AtariWrapper(env, clip_reward=False, noop_max=0)\n",
    "    env = ImageToPyTorch(env)\n",
    "    env = BufferWrapper(env, n_steps=4)\n",
    "    return env"
   ]
  },
  {
   "cell_type": "markdown",
   "metadata": {
    "id": "MmXLwfJHZO-X"
   },
   "source": [
    "For the DQN model, we will use a typical convolution network, with a conv base followed by a dense network. Importantly, instead of modeling $Q$ as a function of the pair $(s,a)$ that outputs the corresponding value, i.e.,\n",
    "\n",
    "$$Q: {\\cal S}\\times {\\cal A} \\rightarrow \\mathbb{R}\\;,$$\n",
    "\n",
    "where, for our environment, we have\n",
    "\n",
    "$${\\cal S}=\\mathbb{R}^{84\\times 84\\times 4}$$\n",
    "\n",
    "and\n",
    "\n",
    "$${\\cal A} =\\{0,1,2,3,4,5\\} \\subset \\mathbb{R}\\;,$$\n",
    "\n",
    "we will use a dual representation   \n",
    "\n",
    "$$Q: {\\cal S} \\rightarrow \\mathbb{R}^6\\;,$$\n",
    "\n",
    "that given the state, outputs the value for each possible action.\n",
    "\n",
    "The PyTorch code should be, by now, self-explanatory. Notice nonetheless that it requires a bit more work, than the one needed in Keras to set dimensions of the layers."
   ]
  },
  {
   "cell_type": "code",
   "execution_count": null,
   "metadata": {
    "id": "J6GBp08adVU0"
   },
   "outputs": [],
   "source": [
    "import torch\n",
    "import torch.nn as nn\n",
    "\n",
    "\n",
    "class DQN(nn.Module):\n",
    "    def __init__(self, input_shape, n_actions):\n",
    "        super(DQN, self).__init__()\n",
    "\n",
    "        self.conv = nn.Sequential(\n",
    "            nn.Conv2d(input_shape[0], 32, kernel_size=8, stride=4),\n",
    "            nn.ReLU(),\n",
    "            nn.Conv2d(32, 64, kernel_size=4, stride=2),\n",
    "            nn.ReLU(),\n",
    "            nn.Conv2d(64, 64, kernel_size=3, stride=1),\n",
    "            nn.ReLU(),\n",
    "            nn.Flatten(),\n",
    "        )\n",
    "        size = self.conv(torch.zeros(1, *input_shape)).size()[-1]\n",
    "        self.fc = nn.Sequential(\n",
    "            nn.Linear(size, 512),\n",
    "            nn.ReLU(),\n",
    "            nn.Linear(512, n_actions)\n",
    "        )\n",
    "\n",
    "    def forward(self, x: torch.ByteTensor):\n",
    "        # scale on GPU\n",
    "        xx = x / 255.0\n",
    "        return self.fc(self.conv(xx))"
   ]
  },
  {
   "cell_type": "markdown",
   "metadata": {
    "id": "cTFQhRa3ddnF"
   },
   "source": [
    "Next we define several parameters and variables and construct the class fro replay buffer.  "
   ]
  },
  {
   "cell_type": "code",
   "execution_count": null,
   "metadata": {
    "id": "aG1OXGH_dvxj"
   },
   "outputs": [],
   "source": [
    "DEFAULT_ENV_NAME = \"PongNoFrameskip-v4\"\n",
    "MEAN_REWARD_BOUND = 19\n",
    "\n",
    "GAMMA = 0.99\n",
    "BATCH_SIZE = 32\n",
    "REPLAY_SIZE = 10000\n",
    "LEARNING_RATE = 1e-4\n",
    "SYNC_TARGET_FRAMES = 1000\n",
    "REPLAY_START_SIZE = 10000\n",
    "\n",
    "EPSILON_DECAY_LAST_FRAME = 150000\n",
    "EPSILON_START = 1.0\n",
    "EPSILON_FINAL = 0.01\n",
    "\n",
    "State = np.ndarray\n",
    "Action = int\n",
    "BatchTensors = tt.Tuple[\n",
    "    torch.ByteTensor,           # current state\n",
    "    torch.LongTensor,           # actions\n",
    "    torch.Tensor,               # rewards\n",
    "    torch.BoolTensor,           # done || trunc\n",
    "    torch.ByteTensor            # next state\n",
    "]\n",
    "\n",
    "@dataclass\n",
    "class Experience:\n",
    "    state: State\n",
    "    action: Action\n",
    "    reward: float\n",
    "    done_trunc: bool\n",
    "    new_state: State\n",
    "\n",
    "\n",
    "class ExperienceBuffer:\n",
    "    def __init__(self, capacity: int):\n",
    "        self.buffer = collections.deque(maxlen=capacity)\n",
    "\n",
    "    def __len__(self):\n",
    "        return len(self.buffer)\n",
    "\n",
    "    def append(self, experience: Experience):\n",
    "        self.buffer.append(experience)\n",
    "\n",
    "    def sample(self, batch_size: int) -> tt.List[Experience]:\n",
    "        indices = np.random.choice(len(self), batch_size, replace=False)\n",
    "        return [self.buffer[idx] for idx in indices]"
   ]
  },
  {
   "cell_type": "markdown",
   "metadata": {
    "id": "7MNCg8vueHfi"
   },
   "source": [
    "We now create the agent class."
   ]
  },
  {
   "cell_type": "code",
   "execution_count": null,
   "metadata": {
    "id": "zknt1frZeSeI"
   },
   "outputs": [],
   "source": [
    "class Agent:\n",
    "    def __init__(self, env: gym.Env, exp_buffer: ExperienceBuffer):\n",
    "        self.env = env\n",
    "        self.exp_buffer = exp_buffer\n",
    "        self.state: tt.Optional[np.ndarray] = None\n",
    "        self._reset()\n",
    "\n",
    "    def _reset(self):\n",
    "        self.state, _ = env.reset()\n",
    "        self.total_reward = 0.0\n",
    "\n",
    "    @torch.no_grad()\n",
    "    def play_step(self, net: dqn_model.DQN, device: torch.device,\n",
    "                  epsilon: float = 0.0) -> tt.Optional[float]:\n",
    "        done_reward = None\n",
    "\n",
    "        if np.random.random() < epsilon:\n",
    "            action = env.action_space.sample()\n",
    "        else:\n",
    "            state_v = torch.as_tensor(self.state).to(device)\n",
    "            state_v.unsqueeze_(0)\n",
    "            q_vals_v = net(state_v)\n",
    "            _, act_v = torch.max(q_vals_v, dim=1)\n",
    "            action = int(act_v.item())\n",
    "\n",
    "        # do step in the environment\n",
    "        new_state, reward, is_done, is_tr, _ = self.env.step(action)\n",
    "        self.total_reward += reward\n",
    "\n",
    "        exp = Experience(\n",
    "            state=self.state, action=action, reward=float(reward),\n",
    "            done_trunc=is_done or is_tr, new_state=new_state\n",
    "        )\n",
    "        self.exp_buffer.append(exp)\n",
    "        self.state = new_state\n",
    "        if is_done or is_tr:\n",
    "            done_reward = self.total_reward\n",
    "            self._reset()\n",
    "        return done_reward"
   ]
  },
  {
   "cell_type": "markdown",
   "metadata": {
    "id": "B6pMmUrjeTzi"
   },
   "source": [
    "We will also need to transform our samples taken from the buffer into tensors that can be fed to our networks. This is achieved by this simple function."
   ]
  },
  {
   "cell_type": "code",
   "execution_count": null,
   "metadata": {
    "id": "JSLXGUYWeWYH"
   },
   "outputs": [],
   "source": [
    "def batch_to_tensors(batch: tt.List[Experience], device: torch.device) -> BatchTensors:\n",
    "    states, actions, rewards, dones, new_state = [], [], [], [], []\n",
    "    for e in batch:\n",
    "        states.append(e.state)\n",
    "        actions.append(e.action)\n",
    "        rewards.append(e.reward)\n",
    "        dones.append(e.done_trunc)\n",
    "        new_state.append(e.new_state)\n",
    "    states_t = torch.as_tensor(np.asarray(states))\n",
    "    actions_t = torch.LongTensor(actions)\n",
    "    rewards_t = torch.FloatTensor(rewards)\n",
    "    dones_t = torch.BoolTensor(dones)\n",
    "    new_states_t = torch.as_tensor(np.asarray(new_state))\n",
    "    return states_t.to(device), actions_t.to(device), rewards_t.to(device), \\\n",
    "           dones_t.to(device),  new_states_t.to(device)"
   ]
  },
  {
   "cell_type": "markdown",
   "metadata": {
    "id": "spsqJAktfDU9"
   },
   "source": [
    "A not-so-easy piece of code, even being quite small, is the one to compute the loss."
   ]
  },
  {
   "cell_type": "code",
   "execution_count": null,
   "metadata": {
    "id": "TwIK6i2ifNMj"
   },
   "outputs": [],
   "source": [
    "def calc_loss(batch: tt.List[Experience], net: dqn_model.DQN, tgt_net: dqn_model.DQN,\n",
    "              device: torch.device) -> torch.Tensor:\n",
    "    states_t, actions_t, rewards_t, dones_t, new_states_t = batch_to_tensors(batch, device)\n",
    "\n",
    "    state_action_values = net(states_t).gather(\n",
    "        1, actions_t.unsqueeze(-1)\n",
    "    ).squeeze(-1)\n",
    "    with torch.no_grad():\n",
    "        next_state_values = tgt_net(new_states_t).max(1)[0]\n",
    "        next_state_values[dones_t] = 0.0\n",
    "        next_state_values = next_state_values.detach()\n",
    "\n",
    "    expected_state_action_values = next_state_values * GAMMA + rewards_t\n",
    "    return nn.MSELoss()(state_action_values, expected_state_action_values)"
   ]
  },
  {
   "cell_type": "markdown",
   "metadata": {
    "id": "84nZVAyFgCw6"
   },
   "source": [
    "Finally, we have the code for the training loop. Note that this training procedure is quite expensive it will be unfeaseble without the access to a GPU.  "
   ]
  },
  {
   "cell_type": "code",
   "execution_count": null,
   "metadata": {
    "id": "m-9QeKX_f13p"
   },
   "outputs": [],
   "source": [
    "parser = argparse.ArgumentParser()\n",
    "parser.add_argument(\"--dev\", default=\"cpu\", help=\"Device name, default=cpu\")\n",
    "parser.add_argument(\"--env\", default=DEFAULT_ENV_NAME,\n",
    "                    help=\"Name of the environment, default=\" + DEFAULT_ENV_NAME)\n",
    "args = parser.parse_args()\n",
    "device = torch.device(args.dev)\n",
    "\n",
    "env = wrappers.make_env(args.env)\n",
    "net = dqn_model.DQN(env.observation_space.shape, env.action_space.n).to(device)\n",
    "tgt_net = dqn_model.DQN(env.observation_space.shape, env.action_space.n).to(device)\n",
    "writer = SummaryWriter(comment=\"-\" + args.env)\n",
    "print(net)\n",
    "\n",
    "buffer = ExperienceBuffer(REPLAY_SIZE)\n",
    "agent = Agent(env, buffer)\n",
    "epsilon = EPSILON_START\n",
    "\n",
    "optimizer = optim.Adam(net.parameters(), lr=LEARNING_RATE)\n",
    "total_rewards = []\n",
    "frame_idx = 0\n",
    "ts_frame = 0\n",
    "ts = time.time()\n",
    "best_m_reward = None\n",
    "\n",
    "\n",
    "while True:\n",
    "    frame_idx += 1\n",
    "    epsilon = max(EPSILON_FINAL, EPSILON_START - frame_idx / EPSILON_DECAY_LAST_FRAME)\n",
    "\n",
    "    reward = agent.play_step(net, device, epsilon)\n",
    "    if reward is not None:\n",
    "        total_rewards.append(reward)\n",
    "        speed = (frame_idx - ts_frame) / (time.time() - ts)\n",
    "        ts_frame = frame_idx\n",
    "        ts = time.time()\n",
    "        m_reward = np.mean(total_rewards[-100:])\n",
    "        print(f\"{frame_idx}: done {len(total_rewards)} games, reward {m_reward:.3f}, \"\n",
    "              f\"eps {epsilon:.2f}, speed {speed:.2f} f/s\")\n",
    "        writer.add_scalar(\"epsilon\", epsilon, frame_idx)\n",
    "        writer.add_scalar(\"speed\", speed, frame_idx)\n",
    "        writer.add_scalar(\"reward_100\", m_reward, frame_idx)\n",
    "        writer.add_scalar(\"reward\", reward, frame_idx)\n",
    "        if best_m_reward is None or best_m_reward < m_reward:\n",
    "            torch.save(net.state_dict(), args.env + \"-best_%.0f.dat\" % m_reward)\n",
    "            if best_m_reward is not None:\n",
    "                print(f\"Best reward updated {best_m_reward:.3f} -> {m_reward:.3f}\")\n",
    "            best_m_reward = m_reward\n",
    "        if m_reward > MEAN_REWARD_BOUND:\n",
    "            print(\"Solved in %d frames!\" % frame_idx)\n",
    "            break\n",
    "    if len(buffer) < REPLAY_START_SIZE:\n",
    "        continue\n",
    "    if frame_idx % SYNC_TARGET_FRAMES == 0:\n",
    "        tgt_net.load_state_dict(net.state_dict())\n",
    "\n",
    "    optimizer.zero_grad()\n",
    "    batch = buffer.sample(BATCH_SIZE)\n",
    "    loss_t = calc_loss(batch, net, tgt_net, device)\n",
    "    loss_t.backward()\n",
    "    optimizer.step()\n",
    "    if frame_idx % 10 == 0:\n",
    "        print(f\"training in frame {frame_idx}, Loss = {loss_t:.4f}\")\n",
    "writer.close()\n"
   ]
  },
  {
   "cell_type": "markdown",
   "metadata": {
    "id": "vgrTii2EhdQZ"
   },
   "source": [
    "The evolution of our agent's ability to play pong is recorded in the following collection of videos\n",
    "https://www.youtube.com/playlist?list=PLMVwuZENsfJklt4vCltrWq0KV9aEZ3ylu"
   ]
  },
  {
   "cell_type": "markdown",
   "metadata": {
    "id": "4NdwRG-rhvzl"
   },
   "source": [
    "# Worksheet #9: Rewrite Laplan's code using TensorFlow and Keras."
   ]
  }
 ],
 "metadata": {
  "colab": {
   "authorship_tag": "ABX9TyPQynSOmti3szwbJuKNykc5",
   "provenance": []
  },
  "kernelspec": {
   "display_name": ".venv",
   "language": "python",
   "name": "python3"
  },
  "language_info": {
   "codemirror_mode": {
    "name": "ipython",
    "version": 3
   },
   "file_extension": ".py",
   "mimetype": "text/x-python",
   "name": "python",
   "nbconvert_exporter": "python",
   "pygments_lexer": "ipython3",
   "version": "3.12.10"
  }
 },
 "nbformat": 4,
 "nbformat_minor": 0
}
