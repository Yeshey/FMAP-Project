{
  "cells": [
    {
      "cell_type": "markdown",
      "metadata": {
        "id": "bBBdgAwBY6yU"
      },
      "source": [
        "# A very brief introduction to Deep Reinforcement Learning"
      ]
    },
    {
      "cell_type": "markdown",
      "metadata": {
        "id": "NEwBRJqcZRIS"
      },
      "source": [
        "Consider an **agent** whose goal is to solve a given problem: finding its way through a maze, finding the best way to solve a logistics problem, learning how to play games (Atari or other digital games, or strategy games like Chess and Go), finding the 3d dimensional structure of proteins, or turning a Large Language Model from an incoherent and rude \"blabbermouth\" into a coherent an polite language generator.\n",
        "\n",
        "In Reinforcement Learning (RL) such problems need to be solved by exploring a given environment: the agent is able to probe the environment by observing its states (that might only contain partial information) and by using a set of actions that (typically) change the state of the environment; moreover, the agent receives stimuli from the environment, in the form of rewards, that depend on the chosen action and state achieved.     "
      ]
    },
    {
      "cell_type": "markdown",
      "metadata": {
        "id": "t2WlC7c3hcXo"
      },
      "source": [
        "To simplify things, let's only consider the case where there is only a finite **observation space**, i.e., a finite set of states\n",
        "\n",
        "$${\\cal S} = \\{s_1,\\ldots,s_N\\}\\;,$$\n",
        "\n",
        "and a finite set of actions, independent of the state,\n",
        "\n",
        "$${\\cal A}=\\{a_1,\\ldots,a_M\\}\\;.$$\n",
        "\n",
        "We will also assume that by taking action $a_i$ in state $s_j$ the agent gets a reward\n",
        "\n",
        "$$R(a_i,s_j) \\in \\mathbb{R}\\;.$$\n",
        "\n",
        "Each agent acts according to a **policy**, that corresponds to a choice of action given the observed state\n",
        "\n",
        "$$\\pi: {\\cal S}\\rightarrow {\\cal A}\\;.$$\n",
        "\n",
        "We will consider discrete time, finite horizon games, i.e., games where the actions are taken in separate moments in time and finish at time $T\\in \\mathbb{Z}^+$. In such a case we can take the sequence of moments to be $\\{0,1,\\ldots,T\\}$, and given a policy $\\pi$ the agent will receive a sequence of rewards $\\{R_{\\pi}(0),\\ldots, R_{\\pi}(T)\\}$ with a combined **discounted return** of\n",
        "\n",
        "$$G_{\\pi} = R_{\\pi}(0)+ \\gamma R_{\\pi}(1) + \\gamma^2 R_{\\pi}(2) + \\cdots + \\gamma^T R_{\\pi}(T) = \\sum_{t=0}^{T} \\gamma^t R_{\\pi}(t)\\;,$$\n",
        "\n",
        "where we have included a discount factor $0<\\gamma \\leq 1$. If $\\gamma < 1$, the goal of the discount factor is to make future rewards less relevant to the agent's decisions at times $t< T$.   \n",
        "\n",
        "Naturally, the goal of the agent is to find an optimal policy $\\pi^*$, i.e., a policy that maximizes the return\n",
        "\n",
        "$$G_{\\pi^*} = \\max_{\\pi} G_{\\pi}\\,.$$\n",
        "\n",
        "This setting can be generalized to a stochastic context, where taking a given action does not lead to a determined (next) state but instead gives rise to a probability distribution over the states. In such a case, the rewards become random variables, and the return is then given by an expectation value. To simplify our presentation, we'll not formalize this important generalization.\n",
        "\n",
        "\n",
        "\n"
      ]
    },
    {
      "cell_type": "markdown",
      "metadata": {
        "id": "9yucOHj7-Qzm"
      },
      "source": [
        "We'll now explore some of the previous concepts in Gymnasium \"An API standard for reinforcement learning with a diverse collection of reference environments\"\n",
        "https://gymnasium.farama.org/index.html\n",
        "\n",
        "To start let's consider Frozen Lake https://gymnasium.farama.org/environments/toy_text/frozen_lake/"
      ]
    },
    {
      "cell_type": "code",
      "execution_count": 1,
      "metadata": {
        "id": "DBy3uuKRhbDx"
      },
      "outputs": [],
      "source": [
        "import gymnasium as gym\n",
        "\n",
        "ENV_NAME = \"FrozenLake-v1\"\n",
        "env = gym.make(ENV_NAME, is_slippery=False)"
      ]
    },
    {
      "cell_type": "markdown",
      "metadata": {
        "id": "O8apnz0N_T-W"
      },
      "source": [
        "In this case the observation space has 16 states coded by a disctinct integer."
      ]
    },
    {
      "cell_type": "code",
      "execution_count": 2,
      "metadata": {
        "colab": {
          "base_uri": "https://localhost:8080/"
        },
        "id": "5H-MvnvWY0bP",
        "outputId": "d24bd48d-45c8-4273-bed0-60531d7e9e10"
      },
      "outputs": [
        {
          "data": {
            "text/plain": [
              "Discrete(16)"
            ]
          },
          "execution_count": 2,
          "metadata": {},
          "output_type": "execute_result"
        }
      ],
      "source": [
        "env.observation_space"
      ]
    },
    {
      "cell_type": "markdown",
      "metadata": {
        "id": "xhYy3sEV_uUC"
      },
      "source": [
        "There are 4 actions,\n",
        "\n",
        "    0: Move left\n",
        "\n",
        "    1: Move down\n",
        "\n",
        "    2: Move right\n",
        "\n",
        "    3: Move up\n"
      ]
    },
    {
      "cell_type": "code",
      "execution_count": 3,
      "metadata": {
        "colab": {
          "base_uri": "https://localhost:8080/"
        },
        "id": "-KDKz9uT_QHt",
        "outputId": "d5569c2d-e9ea-4584-b635-59fc9cdf7925"
      },
      "outputs": [
        {
          "data": {
            "text/plain": [
              "Discrete(4)"
            ]
          },
          "execution_count": 3,
          "metadata": {},
          "output_type": "execute_result"
        }
      ],
      "source": [
        "env.action_space # quantidade de ações possiveis"
      ]
    },
    {
      "cell_type": "code",
      "execution_count": 4,
      "metadata": {
        "colab": {
          "base_uri": "https://localhost:8080/"
        },
        "id": "FZhxWjLA2fV-",
        "outputId": "9bccd7e7-11c5-469c-a99d-bb9a65490316"
      },
      "outputs": [
        {
          "data": {
            "text/plain": [
              "np.int64(2)"
            ]
          },
          "execution_count": 4,
          "metadata": {},
          "output_type": "execute_result"
        }
      ],
      "source": [
        "# generate a random action\n",
        "env.action_space.sample()"
      ]
    },
    {
      "cell_type": "markdown",
      "metadata": {
        "id": "Uslx3CWQAOAi"
      },
      "source": [
        "In this case, when we reset the environment we always start in the \"first\" position. in other cases the envoronment can reset at different states."
      ]
    },
    {
      "cell_type": "code",
      "execution_count": 5,
      "metadata": {
        "colab": {
          "base_uri": "https://localhost:8080/"
        },
        "id": "X6lmIlgH_bNC",
        "outputId": "c28f551a-24b6-4aeb-ce25-ffc81139c909"
      },
      "outputs": [
        {
          "data": {
            "text/plain": [
              "0"
            ]
          },
          "execution_count": 5,
          "metadata": {},
          "output_type": "execute_result"
        }
      ],
      "source": [
        "obs,_ = env.reset()\n",
        "obs"
      ]
    },
    {
      "cell_type": "markdown",
      "metadata": {
        "id": "Dc-eDfDM2-5M"
      },
      "source": [
        "Taking an action results in a new-state, a reward and information concerning if we reached the end of the game, either because we've achieved and end state or reached a maximum number of allowed steps.  "
      ]
    },
    {
      "cell_type": "code",
      "execution_count": 6,
      "metadata": {
        "colab": {
          "base_uri": "https://localhost:8080/"
        },
        "id": "qZkMSMYM2pQT",
        "outputId": "03331d18-26a0-4853-f519-1ca58695d237"
      },
      "outputs": [
        {
          "name": "stdout",
          "output_type": "stream",
          "text": [
            "0 0.0 False False\n"
          ]
        }
      ],
      "source": [
        "action = 3\n",
        "new_state, reward, is_done, is_trunc, _ = env.step(action) # is_trunc é o numero maximo de ações antes de acabar\n",
        "print(new_state, reward, is_done, is_trunc)"
      ]
    },
    {
      "cell_type": "markdown",
      "metadata": {
        "id": "yC9y72md4D1q"
      },
      "source": [
        "Let's create agents that play randomly and collect the corresponding rewards.  "
      ]
    },
    {
      "cell_type": "code",
      "execution_count": 7,
      "metadata": {
        "id": "1lERIBbTAiPH"
      },
      "outputs": [],
      "source": [
        "class Agent_Random:\n",
        "    def __init__(self):\n",
        "        self.total_reward = 0.0\n",
        "\n",
        "    def step(self, env):\n",
        "        action = env.action_space.sample()\n",
        "        new_state, reward, is_done, is_trunc, _ = env.step(action)\n",
        "        self.total_reward += reward\n",
        "        return  new_state, reward, is_done, is_trunc"
      ]
    },
    {
      "cell_type": "code",
      "execution_count": 8,
      "metadata": {
        "colab": {
          "base_uri": "https://localhost:8080/"
        },
        "collapsed": true,
        "id": "ixV2I8Vq5u4J",
        "outputId": "e8d87694-8e27-489b-8456-d66b09b9e994"
      },
      "outputs": [
        {
          "name": "stdout",
          "output_type": "stream",
          "text": [
            "0 0.0 False False\n",
            "0 0.0 False False\n",
            "1 0.0 False False\n",
            "5 0.0 True False\n"
          ]
        },
        {
          "data": {
            "text/plain": [
              "0.0"
            ]
          },
          "execution_count": 8,
          "metadata": {},
          "output_type": "execute_result"
        }
      ],
      "source": [
        "ENV_NAME = \"FrozenLake-v1\"\n",
        "env = gym.make(ENV_NAME)\n",
        "\n",
        "agent = Agent_Random()\n",
        "\n",
        "env.reset()\n",
        "done = False\n",
        "\n",
        "while not done:\n",
        "  new_state, reward, is_done, is_trunc  = agent.step(env)\n",
        "  print(new_state, reward, is_done, is_trunc)\n",
        "  done = is_done or is_trunc\n",
        "\n",
        "agent.total_reward"
      ]
    },
    {
      "cell_type": "markdown",
      "metadata": {
        "id": "YVkze7qn67Oo"
      },
      "source": [
        "We'll now visualize our agent in action"
      ]
    },
    {
      "cell_type": "code",
      "execution_count": 9,
      "metadata": {
        "colab": {
          "base_uri": "https://localhost:8080/",
          "height": 525
        },
        "collapsed": true,
        "id": "p1SO50c86mJY",
        "outputId": "4f28b4fe-08b2-4bda-8322-f85aa6217b9c"
      },
      "outputs": [
        {
          "name": "stderr",
          "output_type": "stream",
          "text": [
            "/mnt/DataDisk/PersonalFiles/2025/Masters/FMAP -  Fundamentos Matemáticos para Aprendizagem Profunda/FMAP-Project/.venv/lib/python3.12/site-packages/pygame/pkgdata.py:25: UserWarning: pkg_resources is deprecated as an API. See https://setuptools.pypa.io/en/latest/pkg_resources.html. The pkg_resources package is slated for removal as early as 2025-11-30. Refrain from using this package or pin to Setuptools<81.\n",
            "  from pkg_resources import resource_stream, resource_exists\n"
          ]
        },
        {
          "name": "stdout",
          "output_type": "stream",
          "text": [
            "4 0.0 False False\n",
            "4 0.0 False False\n",
            "0 0.0 False False\n",
            "4 0.0 False False\n",
            "8 0.0 False False\n",
            "4 0.0 False False\n",
            "0 0.0 False False\n",
            "0 0.0 False False\n",
            "1 0.0 False False\n",
            "2 0.0 False False\n",
            "2 0.0 False False\n",
            "6 0.0 False False\n",
            "10 0.0 False False\n",
            "14 0.0 False False\n",
            "14 0.0 False False\n",
            "13 0.0 False False\n",
            "12 0.0 True False\n"
          ]
        },
        {
          "data": {
            "text/html": [
              "\n",
              "<video width=400 controls>\n",
              "    <source src=\"data:video/mp4;base64,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\" type=\"video/mp4\">\n",
              "</video>\n"
            ],
            "text/plain": [
              "<IPython.core.display.HTML object>"
            ]
          },
          "execution_count": 9,
          "metadata": {},
          "output_type": "execute_result"
        }
      ],
      "source": [
        "import gymnasium as gym\n",
        "import imageio\n",
        "\n",
        "# is slippery makes it so, when it goes to the left, there is a 1/3 probability of going to where we wan or the other two adjacent actions\n",
        "env = gym.make(ENV_NAME, render_mode=\"rgb_array\", is_slippery=False)\n",
        "obs, _ = env.reset(seed=0)\n",
        "done = False\n",
        "frames = []\n",
        "\n",
        "while not done:\n",
        "    frames.append(env.render())\n",
        "    new_state, reward, is_done, is_trunc  = agent.step(env)\n",
        "    print(new_state, reward, is_done, is_trunc)\n",
        "    done =  is_done or is_trunc\n",
        "frames.append(env.render())\n",
        "\n",
        "env.close()\n",
        "\n",
        "# Save to video\n",
        "imageio.mimsave(\"pong_video.mp4\", frames, fps=5)\n",
        "\n",
        "# Show video\n",
        "from IPython.display import HTML\n",
        "from base64 import b64encode\n",
        "\n",
        "mp4 = open(\"pong_video.mp4\", 'rb').read()\n",
        "data_url = \"data:video/mp4;base64,\" + b64encode(mp4).decode()\n",
        "\n",
        "HTML(f\"\"\"\n",
        "<video width=400 controls>\n",
        "    <source src=\"{data_url}\" type=\"video/mp4\">\n",
        "</video>\n",
        "\"\"\")"
      ]
    },
    {
      "cell_type": "markdown",
      "metadata": {
        "id": "veBCQ2cL8FCi"
      },
      "source": [
        "**Exercise**: Build a class whose agents always choose to go left. And another whose agents choose left 50% of the time and right the other 50%.\n",
        "\n",
        "**Exercise**: Change the environment to \"Taxi-v3\"."
      ]
    },
    {
      "cell_type": "markdown",
      "metadata": {
        "id": "tlvVsQsJ9M8W"
      },
      "source": [
        "To see how an agent can learn an optimal policy, we will very briefly recall the idea of **value function** and the fundamental result captured by **Bellman's equation**.\n",
        "\n",
        "Given a discount factor $\\gamma\\in]0,1]$ and a policy\n",
        "$\\pi:{\\cal S}\\rightarrow {\\cal A}$, we define the associated (state-action) value function to be the function\n",
        "\n",
        "$$Q_{\\pi}:{\\cal S}\\times{\\cal A}\\rightarrow \\mathbb{R}$$\n",
        "\n",
        "such that $Q_{\\pi}(s,a)$ *equals the (expected) discounted reward obtained by choosing action $a$ at state $s$ and then following policy $\\pi$ until the end of the game*.\n",
        "\n",
        "Now consider the value function $Q = Q_{\\pi^*}$ associated with an optimal policy $\\pi^*$. A fundamental mathematical result underlying important achievements in RL is the fact that (the optimal) $Q$ is a solution of Bellman's equation\n",
        "\n",
        "$$ Q(s,a) = R(s,a) + \\max_{a'\\in {\\cal A}} Q(s',a') \\;, $$\n",
        "\n",
        "where $s'$ is the state reached from state $s$, by taking action $a$. Once again, we are simplifying the presentation by only considering the deterministic setup."
      ]
    },
    {
      "cell_type": "markdown",
      "metadata": {
        "id": "Kaug7ZYaC5pT"
      },
      "source": [
        "# Q - tabular learning\n",
        "\n",
        "We'll now describe an implementation of the Q-tabular learning algorithm, following the presentation in Chapter 5 of Lapan's \"Deep Reinforcement Learning Hands On - Third Edition\".\n",
        "\n",
        "\n",
        "1. The idea for this algorithm is to construct a double entry table for the $Q$ values (we'll use a dictionary with keys (state,action) and values equal to the Q-values).  \n",
        "\n",
        "2. In the beginning, our values dictionary is empty because our agent doesn't know anything about the environment.\n",
        "\n",
        "3. To learn about the environment, in each step, the agent performs a random action and records the corresponding transition information in a tuple $(s,a,r,s')=$(state/estado atual, action, reward, new_state).\n",
        "\n",
        "4. Then it updates the $Q$ value using this new information, by using the rule\n",
        "\n",
        "$$Q(s,a) \\leftarrow (1-\\alpha)Q(s,a) + \\alpha (r + \\gamma\\max_{a'}Q(s',a'))\\;.$$\n",
        "\n",
        "- Isto $\\alpha (r + \\gamma\\max_{a'}Q(s',a'))\\;$ é a equação de bellman, o outro termo: $(1-\\alpha)Q(s,a)$ é para uma especie de media, se o alpha for proximo de $0$, conta mais o valor antigo, se for $1$, só conta o novo valor.\n",
        "\n",
        "For $\\alpha=1$ the update rule corresponds to a fixed point iteration of Bellman's equation (for which there are very useful convergence results); the inclusion of an $\\alpha\\in ]0,1]$ is useful, in practice, as it provides numerical stability.\n",
        "\n",
        "5. After a fixed number of iterations (TEST_TIME) of the previous two steps, we test how well our agent as learned. This is done by playing a given number (TEST_EPISODES) of complete episodes/games and checking if the average discounted return achieves a fixed threshold (MEAN_REWARD_GOAL). If that is the case, we stop training; otherwise, we return to step 2."
      ]
    },
    {
      "cell_type": "code",
      "execution_count": 10,
      "metadata": {
        "id": "Sb3EuaVu7zBo"
      },
      "outputs": [
        {
          "name": "stderr",
          "output_type": "stream",
          "text": [
            "2025-06-27 21:42:12.965495: E external/local_xla/xla/stream_executor/cuda/cuda_fft.cc:467] Unable to register cuFFT factory: Attempting to register factory for plugin cuFFT when one has already been registered\n",
            "WARNING: All log messages before absl::InitializeLog() is called are written to STDERR\n",
            "E0000 00:00:1751056933.002685  493829 cuda_dnn.cc:8579] Unable to register cuDNN factory: Attempting to register factory for plugin cuDNN when one has already been registered\n",
            "E0000 00:00:1751056933.011880  493829 cuda_blas.cc:1407] Unable to register cuBLAS factory: Attempting to register factory for plugin cuBLAS when one has already been registered\n",
            "W0000 00:00:1751056933.064341  493829 computation_placer.cc:177] computation placer already registered. Please check linkage and avoid linking the same target more than once.\n",
            "W0000 00:00:1751056933.064369  493829 computation_placer.cc:177] computation placer already registered. Please check linkage and avoid linking the same target more than once.\n",
            "W0000 00:00:1751056933.064372  493829 computation_placer.cc:177] computation placer already registered. Please check linkage and avoid linking the same target more than once.\n",
            "W0000 00:00:1751056933.064374  493829 computation_placer.cc:177] computation placer already registered. Please check linkage and avoid linking the same target more than once.\n",
            "2025-06-27 21:42:13.076791: I tensorflow/core/platform/cpu_feature_guard.cc:210] This TensorFlow binary is optimized to use available CPU instructions in performance-critical operations.\n",
            "To enable the following instructions: AVX2 FMA, in other operations, rebuild TensorFlow with the appropriate compiler flags.\n"
          ]
        }
      ],
      "source": [
        "import typing as tt\n",
        "import gymnasium as gym\n",
        "from collections import defaultdict, Counter\n",
        "from torch.utils.tensorboard.writer import SummaryWriter"
      ]
    },
    {
      "cell_type": "code",
      "execution_count": 11,
      "metadata": {
        "id": "YTUDIGigDOwr"
      },
      "outputs": [],
      "source": [
        "State = int\n",
        "Action = int\n",
        "ValuesKey = tt.Tuple[State, Action]\n",
        "\n",
        "class Agent:\n",
        "  def __init__(self, env):\n",
        "      self.env = env\n",
        "      self.state, _ = self.env.reset()\n",
        "      self.values: tt.Dict[ValuesKey, float] = defaultdict(float) # dicionario que guarda os valores\n",
        "      # values keys são o estado e a ação, é o que recebe\n",
        "      # devolve um float, o valor do Q\n",
        "\n",
        "\n",
        "  def sample_env(self) -> tt.Tuple[State, Action, float, State]:\n",
        "      action = self.env.action_space.sample()\n",
        "      old_state = self.state\n",
        "      new_state, reward, is_done, is_trunc, _ = self.env.step(action)\n",
        "      if is_done or is_trunc:\n",
        "        self.state, _ = self.env.reset() # renecializa o jogo\n",
        "      else:\n",
        "        self.state = new_state\n",
        "      return old_state, action, float(reward), new_state\n",
        "\n",
        "  def best_value_and_action(self, state: State) -> tt.Tuple[float, State]: # vê melhor ação para cada state\n",
        "    best_action, best_value = None, None\n",
        "    for action in range(self.env.action_space.n):\n",
        "      action_value = self.values[(state, action)]\n",
        "      if best_value is None or best_value < action_value:\n",
        "          best_value = action_value\n",
        "          best_action = action\n",
        "    return best_value, best_action\n",
        "\n",
        "  def value_update(self, state: State, action: Action, reward: float, next_state: State):\n",
        "      best_value, _ = self.best_value_and_action(next_state)\n",
        "      new_value = reward + GAMMA*best_value\n",
        "      old_value = self.values[(state, action)]\n",
        "      self.values[(state, action)] = (1-ALPHA)*old_value + ALPHA*new_value\n",
        "\n",
        "  def play_episode(self, env: gym.Env) -> float:\n",
        "    total_reward = 0.0\n",
        "    state, _ = env.reset()\n",
        "    while True:\n",
        "        _ , best_action = self.best_value_and_action(state)\n",
        "        new_state, reward, is_done, is_trunc, _ = env.step(best_action)\n",
        "        total_reward += reward\n",
        "        if is_done or is_trunc:\n",
        "          break\n",
        "        state = new_state\n",
        "    return total_reward"
      ]
    },
    {
      "cell_type": "code",
      "execution_count": 12,
      "metadata": {
        "colab": {
          "base_uri": "https://localhost:8080/"
        },
        "collapsed": true,
        "id": "bZ_pdtnPDZLh",
        "outputId": "b9ac8fea-c61e-4663-b633-aa64b444e0df"
      },
      "outputs": [
        {
          "name": "stdout",
          "output_type": "stream",
          "text": [
            "iter_no=3000\n",
            "3000: Best reward updated 0.0 -> 1.0\n",
            "Solved in 3000 iterations!\n"
          ]
        }
      ],
      "source": [
        "# If ENV_NAME is \"FrozenLake-v1\", add \"is_slippery = False\" ...\n",
        "#... to env constructor to obtain a deterministic game.\n",
        "\n",
        "ENV_NAME =   \"FrozenLake-v1\" # \"Taxi-v3\"\n",
        "env = gym.make((ENV_NAME), is_slippery = False)\n",
        "test_env = gym.make((ENV_NAME), is_slippery = False)\n",
        "agent = Agent(env)\n",
        "\n",
        "#ENV_NAME =   \"Taxi-v3\"\n",
        "#env = gym.make((ENV_NAME))\n",
        "#test_env = gym.make((ENV_NAME))\n",
        "#agent = Agent(env)\n",
        "\n",
        "GAMMA = 0.9\n",
        "ALPHA = 0.2\n",
        "TEST_EPISODES = 20\n",
        "MEAN_REWARD_GOAL = .8 # se calhar no taxi queriamos tipo 4 ou 8, que é o reward quando paramos\n",
        "# MEAN_REWARD_GOAL = 8\n",
        "TEST_TIME = 3000\n",
        "\n",
        "iter_no = 0\n",
        "best_reward = 0.0\n",
        "while True:\n",
        "  iter_no += 1\n",
        "  state, action, reward, next_state = agent.sample_env() # jogamos ao calhas, temos nova informação\n",
        "  agent.value_update(state, action, reward, next_state) # usamos essa informação para atualizar a tabela com a eq de bellman\n",
        "  if iter_no % TEST_TIME == 0:\n",
        "    print(f\"iter_no={iter_no}\")\n",
        "    reward = 0.0\n",
        "    for _ in range(TEST_EPISODES):\n",
        "      reward += agent.play_episode(test_env)\n",
        "    reward /= TEST_EPISODES\n",
        "    if reward > best_reward:\n",
        "        print(f\"{iter_no}: Best reward updated {best_reward:.3} -> {reward:.3}\")\n",
        "        best_reward = reward\n",
        "    if reward > MEAN_REWARD_GOAL:\n",
        "        print(\"Solved in %d iterations!\" % iter_no)\n",
        "        break"
      ]
    },
    {
      "cell_type": "markdown",
      "metadata": {
        "id": "uVRvOOEbECQ6"
      },
      "source": [
        "Let's see our optimal agent in action."
      ]
    },
    {
      "cell_type": "code",
      "execution_count": 13,
      "metadata": {
        "colab": {
          "base_uri": "https://localhost:8080/",
          "height": 421
        },
        "collapsed": true,
        "id": "KzmX7_aEEOV5",
        "outputId": "2e58332c-9de6-47b0-e51b-cdc949c30fef"
      },
      "outputs": [
        {
          "data": {
            "text/html": [
              "\n",
              "<video width=400 controls>\n",
              "    <source src=\"data:video/mp4;base64,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\" type=\"video/mp4\">\n",
              "</video>\n"
            ],
            "text/plain": [
              "<IPython.core.display.HTML object>"
            ]
          },
          "execution_count": 13,
          "metadata": {},
          "output_type": "execute_result"
        }
      ],
      "source": [
        "import gymnasium as gym\n",
        "import imageio\n",
        "\n",
        "env = gym.make(ENV_NAME, render_mode=\"rgb_array\", is_slippery = False)\n",
        "state, _ = env.reset()\n",
        "done = False\n",
        "frames = []\n",
        "\n",
        "while not done:\n",
        "    frames.append(env.render())\n",
        "    #\n",
        "    best_value, best_action = agent.best_value_and_action(state)\n",
        "    new_state, reward, is_done, is_trunc, _ = env.step(best_action)\n",
        "    #\n",
        "    # to compare with random agent, comment the previous 2 lines and uncomment the next 2\n",
        "    #\n",
        "    #random_action = env.action_space.sample()\n",
        "    #new_state, reward, is_done, is_trunc, _ = env.step(random_action)\n",
        "    #\n",
        "    done =  is_done or is_trunc\n",
        "    state = new_state\n",
        "frames.append(env.render())\n",
        "\n",
        "env.close()\n",
        "\n",
        "# Save to video\n",
        "imageio.mimsave(\"pong_video.mp4\", frames, fps=5)\n",
        "\n",
        "# Show video\n",
        "from IPython.display import HTML\n",
        "from base64 import b64encode\n",
        "\n",
        "mp4 = open(\"pong_video.mp4\", 'rb').read()\n",
        "data_url = \"data:video/mp4;base64,\" + b64encode(mp4).decode()\n",
        "\n",
        "HTML(f\"\"\"\n",
        "<video width=400 controls>\n",
        "    <source src=\"{data_url}\" type=\"video/mp4\">\n",
        "</video>\n",
        "\"\"\")"
      ]
    },
    {
      "cell_type": "markdown",
      "metadata": {
        "id": "2_yxCfjvnS_I"
      },
      "source": [
        "# Deep Q Learning.  "
      ]
    },
    {
      "cell_type": "markdown",
      "metadata": {
        "id": "U9p2ibhhp-ta"
      },
      "source": [
        "If the number of states becomes too large, tabular learning becomes unfeasible. A way to circumvent this problem is to model $Q$ as a deep neural network that receives as inputs the state and the action, and outputs the corresponding $Q$ value. The parameters of this network can then be learned via gradient descent by considering a loss that measures how far $Q$ is from satisfying Bellman's equation.\n",
        "\n",
        "This is the basic conceptual idea behind the major breakthrough made in 2013 by a team from DeepMind https://arxiv.org/abs/1312.5602, which allowed them to train a DQN (Deep Q Network) to play several Atari games; in fact, the networke learned \"by itself\" starting from the pixel data of the frames of the computer games. This remarkable breakthrough was the starting point to a spectacular series of achievements that included mastering high-complexity strategy games such as chess and Go, and most importantly, the computation of the 3D structure of proteins https://www.nobelprize.org/prizes/chemistry/2024/summary/.  "
      ]
    },
    {
      "cell_type": "markdown",
      "metadata": {
        "id": "AappnB_LtXdi"
      },
      "source": [
        "A naive version of the DQN algorithm allude to above, can be summarizes as follows:\n",
        "\n",
        "1. Initialize $Q(s, a)$ using a standard deep learning initialization.\n",
        "\n",
        "2. By interacting with the environment, obtain the tuple $(s, a, r, s')$.\n",
        "\n",
        "3. Compute the loss:\n",
        "\n",
        "$${\\cal L} =\n",
        "\\left\\{\n",
        "\\begin{array}{l}\n",
        " (Q(s, a) - r)^2  \\quad,\\text{ if episode ended}\\;, \\\\\n",
        " (Q(s, a) - (r + \\gamma \\max_{a'} Q(s' ,a'))^2 \\quad, \\text{ otherwise} \\;.\n",
        "\\end{array}\n",
        "\\right.\n",
        "$$\n",
        "\n",
        "4. Update $Q(s, a)$ using an appropriate gradient descent based algorithm, to minimize the loss with respect to the $Q$ model parameters.\n",
        "\n",
        "5. Repeat from step 2 until convergence (in the sense described for tabular-$Q$ learning) is achieved."
      ]
    },
    {
      "cell_type": "markdown",
      "metadata": {
        "id": "wCs21Aj2b50h"
      },
      "source": [
        "We'll now focus on a single Atari game, the iconic Pong https://ale.farama.org/environments/pong/."
      ]
    },
    {
      "cell_type": "code",
      "execution_count": 14,
      "metadata": {
        "colab": {
          "base_uri": "https://localhost:8080/"
        },
        "collapsed": true,
        "id": "PhOeajsRcnXZ",
        "outputId": "7d16ec35-c3b7-496b-f702-ac621af9973c"
      },
      "outputs": [],
      "source": [
        "# !pip install 'stable_baselines3'"
      ]
    },
    {
      "cell_type": "code",
      "execution_count": 15,
      "metadata": {
        "colab": {
          "base_uri": "https://localhost:8080/",
          "height": 268
        },
        "id": "MZeLCmSQb5IR",
        "outputId": "9f89fbec-7b4a-4b1c-9515-b08739f1c4cd"
      },
      "outputs": [
        {
          "name": "stdout",
          "output_type": "stream",
          "text": [
            "(210, 160, 3)\n"
          ]
        },
        {
          "name": "stderr",
          "output_type": "stream",
          "text": [
            "A.L.E: Arcade Learning Environment (version 0.11.1+2750686)\n",
            "[Powered by Stella]\n"
          ]
        },
        {
          "data": {
            "text/plain": [
              "array([[[  0,   0,   0],\n",
              "        [  0,   0,   0],\n",
              "        [  0,   0,   0],\n",
              "        ...,\n",
              "        [109, 118,  43],\n",
              "        [109, 118,  43],\n",
              "        [109, 118,  43]],\n",
              "\n",
              "       [[109, 118,  43],\n",
              "        [109, 118,  43],\n",
              "        [109, 118,  43],\n",
              "        ...,\n",
              "        [109, 118,  43],\n",
              "        [109, 118,  43],\n",
              "        [109, 118,  43]],\n",
              "\n",
              "       [[109, 118,  43],\n",
              "        [109, 118,  43],\n",
              "        [109, 118,  43],\n",
              "        ...,\n",
              "        [109, 118,  43],\n",
              "        [109, 118,  43],\n",
              "        [109, 118,  43]],\n",
              "\n",
              "       ...,\n",
              "\n",
              "       [[ 53,  95,  24],\n",
              "        [ 53,  95,  24],\n",
              "        [ 53,  95,  24],\n",
              "        ...,\n",
              "        [ 53,  95,  24],\n",
              "        [ 53,  95,  24],\n",
              "        [ 53,  95,  24]],\n",
              "\n",
              "       [[ 53,  95,  24],\n",
              "        [ 53,  95,  24],\n",
              "        [ 53,  95,  24],\n",
              "        ...,\n",
              "        [ 53,  95,  24],\n",
              "        [ 53,  95,  24],\n",
              "        [ 53,  95,  24]],\n",
              "\n",
              "       [[ 53,  95,  24],\n",
              "        [ 53,  95,  24],\n",
              "        [ 53,  95,  24],\n",
              "        ...,\n",
              "        [ 53,  95,  24],\n",
              "        [ 53,  95,  24],\n",
              "        [ 53,  95,  24]]], dtype=uint8)"
            ]
          },
          "execution_count": 15,
          "metadata": {},
          "output_type": "execute_result"
        }
      ],
      "source": [
        "import gymnasium as gym\n",
        "from gymnasium import spaces\n",
        "from stable_baselines3.common import atari_wrappers\n",
        "import ale_py\n",
        "\n",
        "env = gym.make(\"PongNoFrameskip-v4\", render_mode=\"rgb_array\")\n",
        "\n",
        "obs,_ = env.reset()\n",
        "\n",
        "print(obs.shape)\n",
        "\n",
        "env.render()"
      ]
    },
    {
      "cell_type": "markdown",
      "metadata": {
        "id": "wbSoytnibWas"
      },
      "source": [
        "Unfortunately, the previous version of DQN doesn't work very well. So we need to do perform some upgrades.\n",
        "\n",
        "- On one hand, we need to explore the environment (using random actions); on the other, we want to use the knowledge gained by the $Q$-function; this is the famous \"exploration versus exploitation dilemma\".  We will resolve this dilemma by introducing a parameter $\\epsilon\\in[0,1]$, that will decrease with the number of iterations, and will be used to decide, with probability $\\epsilon$, if the agent will take a random action or will choose the action prescribed by $Q$.\n",
        "\n",
        "- We will also introduce a **replay buffer**. This will store a \"large\" number of transitions $(s, a, r, s')$ that will be used to construct training data batches to update the parameters of $Q$ using gradient descent.\n",
        "\n",
        "- Finally, using $Q$ itself to generate the targets for the loss will make the training very unstable. To circumvent this problem, we will introduce another DQN $\\hat Q$, called the **target network**, that is periodically synchronized with the main $Q$ network, but otherwise remains unchanged for a given number of iterations.   \n",
        "\n",
        "o $\\epsilon$ vai dexendo e quando chega a 0.5, metade das vezes explora, metade das vezes faz a melhor ação\n"
      ]
    },
    {
      "cell_type": "markdown",
      "metadata": {
        "id": "_zfjMdN1OO5S"
      },
      "source": [
        "Upgraded DQN algorithm:  \n",
        "\n",
        "1. Initialize parameters for $Q(s,a)$ and $\\hat Q(s,a)$,$\\;\\epsilon \\leftarrow 1.0$, and empty the replay buffer.\n",
        "\n",
        "2. With probability $\\epsilon$, select a random action $a$; otherwise, $a = \\text{argmax}_a Q(s, a)$.\n",
        "\n",
        "3. Execute action $a$ in an emulator and observe the reward, $r$, and the next state, $s'$.\n",
        "\n",
        "4. Store the transition $(s, a, r, s')$ in the replay buffer.\n",
        "\n",
        "5. Sample a random mini-batch of transitions from the replay buffer.\n",
        "\n",
        "6. For every transition in the buffer, calculate the target:\n",
        "\n",
        "$$\n",
        "y =\n",
        "\\left\\{\n",
        "\\begin{array}{l}\n",
        " r  \\quad,\\text{ if episode ended}\\;, \\\\\n",
        " r + \\gamma \\max_{a'} \\hat Q(s' ,a') \\quad, \\text{ otherwise} \\;.\n",
        "\\end{array}\n",
        "\\right.\n",
        "$$\n",
        "\n",
        "7. Calculate the loss: ${\\cal L}=(Q(s,a)-y)^2$.\n",
        "\n",
        "8. Update $Q(s, a)$ using an appropriate gradient descent based algorithm, to minimize the loss with respect to the $Q$ model parameters.\n",
        "\n",
        "9. Repeat from step 2 until convergence (in the sense described before) is achieved.\n"
      ]
    },
    {
      "cell_type": "markdown",
      "metadata": {
        "id": "f7UB14l5VB7d"
      },
      "source": [
        "We will now present the Lapan's implementation of this algorithm, as exposed in chapter 6 of his book; see also\n",
        "https://github.com/PacktPublishing/Deep-Reinforcement-Learning-Hands-On-Third-Edition.\n",
        "\n",
        "Note that Lapan uses PyTorch to implement the DQNs. It is a quite instructive exercise to translate the code to tensorflow/keras.  "
      ]
    },
    {
      "cell_type": "markdown",
      "metadata": {
        "id": "xpamMumdWN-r"
      },
      "source": [
        "# **Wrappers:** For efficiency and conceptual reasons, we need to preprocess the environment. For instance:\n",
        "\n",
        "- We can reduce the game frames by considering only a monochromatic version of them and a lower resolution. This is \"hidden\" in the *atari_wrappers.AtariWrapper* class. After applying this, our images will have a shape of $(84,84,1)$; recall that originally they had a shape equal to $(210,160,3)$. Note that this class takes care of a lot of more relevant preprocessing details (see Chapter 6 of Lapan's book for more details).   \n",
        "\n",
        "- This isn't the way PyTorch is designed to receive information; it expects the form (channels, height, width). The ImageToPyTorch wrapper, presented below, takes care of this.\n",
        "\n",
        "- The agent won't be able to learn how to play Pong if we only provide still images of the game. To learn how to play Pong, we need to learn about dynamics. So we need to pack a given number (n_steps) of consecutive images into a \"small video\" with n_steps frames. This is taken care of by the BufferWrapper (see below).\n",
        "\n",
        "Here is the code for the wrappers.  "
      ]
    },
    {
      "cell_type": "code",
      "execution_count": 16,
      "metadata": {
        "id": "JlM3EYsxZFQg"
      },
      "outputs": [],
      "source": [
        "import numpy as np\n",
        "\n",
        "class ImageToPyTorch(gym.ObservationWrapper):\n",
        "    def __init__(self, env):\n",
        "        super(ImageToPyTorch, self).__init__(env)\n",
        "        obs = self.observation_space\n",
        "        assert isinstance(obs, gym.spaces.Box)\n",
        "        assert len(obs.shape) == 3\n",
        "        new_shape = (obs.shape[-1], obs.shape[0], obs.shape[1])\n",
        "        self.observation_space = gym.spaces.Box(\n",
        "            low=obs.low.min(), high=obs.high.max(),\n",
        "            shape=new_shape, dtype=obs.dtype)\n",
        "\n",
        "    def observation(self, observation):\n",
        "        return np.moveaxis(observation, 2, 0)\n",
        "\n",
        "\n",
        "class BufferWrapper(gym.ObservationWrapper):\n",
        "    def __init__(self, env, n_steps):\n",
        "        super(BufferWrapper, self).__init__(env)\n",
        "        obs = env.observation_space\n",
        "        assert isinstance(obs, spaces.Box)\n",
        "        new_obs = gym.spaces.Box(\n",
        "            obs.low.repeat(n_steps, axis=0), obs.high.repeat(n_steps, axis=0),\n",
        "            dtype=obs.dtype)\n",
        "        self.observation_space = new_obs\n",
        "        self.buffer = collections.deque(maxlen=n_steps)\n",
        "\n",
        "    def reset(self, *, seed: tt.Optional[int] = None, options: tt.Optional[dict[str, tt.Any]] = None):\n",
        "        for _ in range(self.buffer.maxlen-1):\n",
        "            self.buffer.append(self.env.observation_space.low)\n",
        "        obs, extra = self.env.reset()\n",
        "        return self.observation(obs), extra\n",
        "\n",
        "    def observation(self, observation: np.ndarray) -> np.ndarray:\n",
        "        self.buffer.append(observation)\n",
        "        return np.concatenate(self.buffer)\n",
        "\n",
        "\n",
        "def make_env(env_name: str, **kwargs):\n",
        "    env = gym.make(env_name, **kwargs)\n",
        "    env = atari_wrappers.AtariWrapper(env, clip_reward=False, noop_max=0)\n",
        "    env = ImageToPyTorch(env)\n",
        "    env = BufferWrapper(env, n_steps=4)\n",
        "    return env"
      ]
    },
    {
      "cell_type": "markdown",
      "metadata": {
        "id": "MmXLwfJHZO-X"
      },
      "source": [
        "For the DQN model, we will use a typical convolution network, with a conv base followed by a dense network. Importantly, instead of modeling $Q$ as a function of the pair $(s,a)$ that outputs the corresponding value, i.e.,\n",
        "\n",
        "$$Q: {\\cal S}\\times {\\cal A} \\rightarrow \\mathbb{R}\\;,$$\n",
        "\n",
        "where, for our environment, we have\n",
        "\n",
        "$${\\cal S}=\\mathbb{R}^{84\\times 84\\times 4}$$\n",
        "\n",
        "and\n",
        "\n",
        "$${\\cal A} =\\{0,1,2,3,4,5\\} \\subset \\mathbb{R}\\;,$$\n",
        "\n",
        "we will use a dual representation   \n",
        "\n",
        "$$Q: {\\cal S} \\rightarrow \\mathbb{R}^6\\;,$$\n",
        "\n",
        "that given the state, outputs the value for each possible action.\n",
        "\n",
        "The PyTorch code should be, by now, self-explanatory. Notice nonetheless that it requires a bit more work, than the one needed in Keras to set dimensions of the layers."
      ]
    },
    {
      "cell_type": "code",
      "execution_count": 17,
      "metadata": {
        "id": "J6GBp08adVU0"
      },
      "outputs": [],
      "source": [
        "# bom exercicio é traduzir este codigo de torch para keras com tensorflow\n",
        "\n",
        "import torch\n",
        "import torch.nn as nn\n",
        "\n",
        "\n",
        "class DQN(nn.Module):\n",
        "    def __init__(self, input_shape, n_actions):\n",
        "        super(DQN, self).__init__()\n",
        "\n",
        "        self.conv = nn.Sequential(\n",
        "            nn.Conv2d(input_shape[0], 32, kernel_size=8, stride=4), # convolução\n",
        "            nn.ReLU(), # função de ativação relu\n",
        "            nn.Conv2d(32, 64, kernel_size=4, stride=2), # 32 é igual ao 32 a cima, o keras faz isso automatico\n",
        "            nn.ReLU(),\n",
        "            nn.Conv2d(64, 64, kernel_size=3, stride=1),\n",
        "            nn.ReLU(),\n",
        "            nn.Flatten(),\n",
        "        )\n",
        "        size = self.conv(torch.zeros(1, *input_shape)).size()[-1] # ta a aplicar o vetor de convolução a um vetor de zeros oara ver o tamanho dele (.size = .shape)\n",
        "        self.fc = nn.Sequential(\n",
        "            nn.Linear(size, 512), # rede densa\n",
        "            nn.ReLU(), # relu\n",
        "            nn.Linear(512, n_actions) # mais uma densa\n",
        "        )\n",
        "\n",
        "    def forward(self, x: torch.ByteTensor):\n",
        "        # scale on GPU\n",
        "        xx = x / 255.0\n",
        "        return self.fc(self.conv(xx))"
      ]
    },
    {
      "cell_type": "markdown",
      "metadata": {
        "id": "cTFQhRa3ddnF"
      },
      "source": [
        "Next we define several parameters and variables and construct the class fro replay buffer.  "
      ]
    },
    {
      "cell_type": "code",
      "execution_count": 18,
      "metadata": {
        "id": "aG1OXGH_dvxj"
      },
      "outputs": [],
      "source": [
        "from dataclasses import dataclass\n",
        "\n",
        "DEFAULT_ENV_NAME = \"PongNoFrameskip-v4\"\n",
        "MEAN_REWARD_BOUND = 19\n",
        "\n",
        "GAMMA = 0.99\n",
        "BATCH_SIZE = 32\n",
        "REPLAY_SIZE = 10000\n",
        "LEARNING_RATE = 1e-4\n",
        "SYNC_TARGET_FRAMES = 1000\n",
        "REPLAY_START_SIZE = 10000\n",
        "\n",
        "EPSILON_DECAY_LAST_FRAME = 150000\n",
        "EPSILON_START = 1.0 # começamos com probabilidade 1 de fazer algo ao calhas\n",
        "EPSILON_FINAL = 0.01 # acabamos com probabilidade 0.01 de fazer algo ao calhas\n",
        "\n",
        "State = np.ndarray\n",
        "Action = int\n",
        "BatchTensors = tt.Tuple[\n",
        "    torch.ByteTensor,           # current state\n",
        "    torch.LongTensor,           # actions\n",
        "    torch.Tensor,               # rewards\n",
        "    torch.BoolTensor,           # done || trunc\n",
        "    torch.ByteTensor            # next state\n",
        "]\n",
        "\n",
        "@dataclass\n",
        "class Experience:\n",
        "    state: State\n",
        "    action: Action\n",
        "    reward: float\n",
        "    done_trunc: bool\n",
        "    new_state: State\n",
        "\n",
        "\n",
        "class ExperienceBuffer:\n",
        "    def __init__(self, capacity: int):\n",
        "        self.buffer = collections.deque(maxlen=capacity)\n",
        "\n",
        "    def __len__(self):\n",
        "        return len(self.buffer)\n",
        "\n",
        "    def append(self, experience: Experience):\n",
        "        self.buffer.append(experience)\n",
        "\n",
        "    def sample(self, batch_size: int) -> tt.List[Experience]:\n",
        "        indices = np.random.choice(len(self), batch_size, replace=False)\n",
        "        return [self.buffer[idx] for idx in indices]"
      ]
    },
    {
      "cell_type": "markdown",
      "metadata": {
        "id": "7MNCg8vueHfi"
      },
      "source": [
        "We now create the agent class."
      ]
    },
    {
      "cell_type": "code",
      "execution_count": 19,
      "metadata": {
        "colab": {
          "base_uri": "https://localhost:8080/",
          "height": 385
        },
        "id": "zknt1frZeSeI",
        "outputId": "255354e7-1eca-4e81-fbb4-734308e83de9"
      },
      "outputs": [],
      "source": [
        "class Agent:\n",
        "    def __init__(self, env: gym.Env, exp_buffer: ExperienceBuffer):\n",
        "        self.env = env\n",
        "        self.exp_buffer = exp_buffer\n",
        "        self.state: tt.Optional[np.ndarray] = None\n",
        "        self._reset()\n",
        "\n",
        "    def _reset(self):\n",
        "        self.state, _ = env.reset()\n",
        "        self.total_reward = 0.0\n",
        "\n",
        "    @torch.no_grad()\n",
        "    def play_step(self, net: DQN, device: torch.device,\n",
        "                  epsilon: float = 0.0) -> tt.Optional[float]:\n",
        "        done_reward = None\n",
        "\n",
        "        if np.random.random() < epsilon: # com probabilidade epsilon joga ao calhas\n",
        "            action = env.action_space.sample()\n",
        "        else: # caso contrario usa a informação do Q\n",
        "            state_v = torch.as_tensor(self.state).to(device)\n",
        "            state_v.unsqueeze_(0) # gera uma dimensão, erro comum\n",
        "            q_vals_v = net(state_v) # gera os Qs\n",
        "            _, act_v = torch.max(q_vals_v, dim=1) # queremos os maiores na dimensão 1\n",
        "            action = int(act_v.item()) # faz a ação que tem o melhor Q\n",
        "\n",
        "        # do step in the environment\n",
        "        new_state, reward, is_done, is_tr, _ = self.env.step(action) # joga essa ação\n",
        "        self.total_reward += reward\n",
        "\n",
        "        exp = Experience( #\n",
        "            state=self.state, action=action, reward=float(reward),\n",
        "            done_trunc=is_done or is_tr, new_state=new_state\n",
        "        )\n",
        "        # informação esta guardada na forma (0,a,r,done,s'). e o buffer é uma lista dessas coisas\n",
        "        self.exp_buffer.append(exp)\n",
        "        self.state = new_state\n",
        "        if is_done or is_tr:\n",
        "            done_reward = self.total_reward\n",
        "            self._reset()\n",
        "        return done_reward"
      ]
    },
    {
      "cell_type": "markdown",
      "metadata": {
        "id": "B6pMmUrjeTzi"
      },
      "source": [
        "We will also need to transform our samples taken from the buffer into tensors that can be fed to our networks. This is achieved by this simple function."
      ]
    },
    {
      "cell_type": "code",
      "execution_count": 20,
      "metadata": {
        "id": "JSLXGUYWeWYH"
      },
      "outputs": [],
      "source": [
        "def batch_to_tensors(batch: tt.List[Experience], device: torch.device) -> BatchTensors:\n",
        "    states, actions, rewards, dones, new_state = [], [], [], [], []\n",
        "    for e in batch:\n",
        "        states.append(e.state)\n",
        "        actions.append(e.action)\n",
        "        rewards.append(e.reward)\n",
        "        dones.append(e.done_trunc)\n",
        "        new_state.append(e.new_state)\n",
        "    states_t = torch.as_tensor(np.asarray(states))\n",
        "    actions_t = torch.LongTensor(actions)\n",
        "    rewards_t = torch.FloatTensor(rewards)\n",
        "    dones_t = torch.BoolTensor(dones)\n",
        "    new_states_t = torch.as_tensor(np.asarray(new_state))\n",
        "    return states_t.to(device), actions_t.to(device), rewards_t.to(device), \\\n",
        "           dones_t.to(device),  new_states_t.to(device)"
      ]
    },
    {
      "cell_type": "markdown",
      "metadata": {
        "id": "spsqJAktfDU9"
      },
      "source": [
        "A not-so-easy piece of code, even being quite small, is the one to compute the loss."
      ]
    },
    {
      "cell_type": "code",
      "execution_count": 21,
      "metadata": {
        "id": "TwIK6i2ifNMj"
      },
      "outputs": [],
      "source": [
        "def calc_loss(batch: tt.List[Experience], net: DQN, tgt_net: DQN,\n",
        "              device: torch.device) -> torch.Tensor:\n",
        "    states_t, actions_t, rewards_t, dones_t, new_states_t = batch_to_tensors(batch, device)\n",
        "\n",
        "    state_action_values = net(states_t).gather(\n",
        "        1, actions_t.unsqueeze(-1)\n",
        "    ).squeeze(-1) # squeeze retira uma dimensão de [[...]] para [...]\n",
        "    with torch.no_grad():\n",
        "        next_state_values = tgt_net(new_states_t).max(1)[0]\n",
        "        next_state_values[dones_t] = 0.0\n",
        "        next_state_values = next_state_values.detach() # não calcular gradientes\n",
        "\n",
        "    expected_state_action_values = next_state_values * GAMMA + rewards_t\n",
        "    return nn.MSELoss()(state_action_values, expected_state_action_values)"
      ]
    },
    {
      "cell_type": "markdown",
      "metadata": {
        "id": "84nZVAyFgCw6"
      },
      "source": [
        "Finally, we have the code for the training loop. Note that this training procedure is quite expensive it will be unfeaseble without the access to a GPU.  "
      ]
    },
    {
      "cell_type": "code",
      "execution_count": 25,
      "metadata": {
        "id": "m-9QeKX_f13p"
      },
      "outputs": [
        {
          "ename": "ModuleNotFoundError",
          "evalue": "No module named 'cv2'",
          "output_type": "error",
          "traceback": [
            "\u001b[31m---------------------------------------------------------------------------\u001b[39m",
            "\u001b[31mModuleNotFoundError\u001b[39m                       Traceback (most recent call last)",
            "\u001b[36mCell\u001b[39m\u001b[36m \u001b[39m\u001b[32mIn[25]\u001b[39m\u001b[32m, line 1\u001b[39m\n\u001b[32m----> \u001b[39m\u001b[32m1\u001b[39m \u001b[38;5;28;01mimport\u001b[39;00m\u001b[38;5;250m \u001b[39m\u001b[34;01mcv2\u001b[39;00m\n\u001b[32m      2\u001b[39m \u001b[38;5;28;01mimport\u001b[39;00m\u001b[38;5;250m \u001b[39m\u001b[34;01margparse\u001b[39;00m\n\u001b[32m      3\u001b[39m \u001b[38;5;28;01mimport\u001b[39;00m\u001b[38;5;250m \u001b[39m\u001b[34;01mcollections\u001b[39;00m\n",
            "\u001b[31mModuleNotFoundError\u001b[39m: No module named 'cv2'"
          ]
        }
      ],
      "source": [
        "import cv2\n",
        "import argparse\n",
        "import collections\n",
        "import time\n",
        "import numpy as np\n",
        "import torch\n",
        "import torch.optim as optim\n",
        "from torch.utils.tensorboard import SummaryWriter\n",
        "\n",
        "\n",
        "parser = argparse.ArgumentParser()\n",
        "parser.add_argument(\"--dev\", default=\"cpu\", help=\"Device name, default=cpu\")\n",
        "parser.add_argument(\"--env\", default=DEFAULT_ENV_NAME,\n",
        "                    help=\"Name of the environment, default=\" + DEFAULT_ENV_NAME)\n",
        "args, _ = parser.parse_known_args()\n",
        "device = torch.device(args.dev)\n",
        "\n",
        "#env = wrappers.make_env(args.env)\n",
        "env = make_env(args.env)\n",
        "net = DQN(env.observation_space.shape, env.action_space.n).to(device)\n",
        "tgt_net = DQN(env.observation_space.shape, env.action_space.n).to(device)\n",
        "writer = SummaryWriter(comment=\"-\" + args.env)\n",
        "print(net)\n",
        "\n",
        "buffer = ExperienceBuffer(REPLAY_SIZE)\n",
        "agent = Agent(env, buffer)\n",
        "epsilon = EPSILON_START\n",
        "\n",
        "optimizer = optim.Adam(net.parameters(), lr=LEARNING_RATE)\n",
        "total_rewards = []\n",
        "frame_idx = 0\n",
        "ts_frame = 0\n",
        "ts = time.time()\n",
        "best_m_reward = None\n",
        "\n",
        "\n",
        "while True:\n",
        "    frame_idx += 1\n",
        "    epsilon = max(EPSILON_FINAL, EPSILON_START - frame_idx / EPSILON_DECAY_LAST_FRAME)\n",
        "\n",
        "    reward = agent.play_step(net, device, epsilon)\n",
        "    if reward is not None:\n",
        "        total_rewards.append(reward)\n",
        "        speed = (frame_idx - ts_frame) / (time.time() - ts)\n",
        "        ts_frame = frame_idx\n",
        "        ts = time.time()\n",
        "        m_reward = np.mean(total_rewards[-100:])\n",
        "        print(f\"{frame_idx}: done {len(total_rewards)} games, reward {m_reward:.3f}, \"\n",
        "              f\"eps {epsilon:.2f}, speed {speed:.2f} f/s\")\n",
        "        writer.add_scalar(\"epsilon\", epsilon, frame_idx)\n",
        "        writer.add_scalar(\"speed\", speed, frame_idx)\n",
        "        writer.add_scalar(\"reward_100\", m_reward, frame_idx)\n",
        "        writer.add_scalar(\"reward\", reward, frame_idx)\n",
        "        if best_m_reward is None or best_m_reward < m_reward:\n",
        "            torch.save(net.state_dict(), args.env + \"-best_%.0f.dat\" % m_reward)\n",
        "            if best_m_reward is not None:\n",
        "                print(f\"Best reward updated {best_m_reward:.3f} -> {m_reward:.3f}\")\n",
        "            best_m_reward = m_reward\n",
        "        if m_reward > MEAN_REWARD_BOUND:\n",
        "            print(\"Solved in %d frames!\" % frame_idx)\n",
        "            break\n",
        "    if len(buffer) < REPLAY_START_SIZE:\n",
        "        continue\n",
        "    if frame_idx % SYNC_TARGET_FRAMES == 0:\n",
        "        tgt_net.load_state_dict(net.state_dict())\n",
        "\n",
        "    optimizer.zero_grad() # precisamos de fazer manualmente, se não acumulam, em tensorflow keras n temos\n",
        "    batch = buffer.sample(BATCH_SIZE)\n",
        "    loss_t = calc_loss(batch, net, tgt_net, device)\n",
        "    loss_t.backward()\n",
        "    optimizer.step()\n",
        "    if frame_idx % 10 == 0:\n",
        "        print(f\"training in frame {frame_idx}, Loss = {loss_t:.4f}\")\n",
        "writer.close()\n"
      ]
    },
    {
      "cell_type": "markdown",
      "metadata": {
        "id": "vgrTii2EhdQZ"
      },
      "source": [
        "The evolution of our agent's ability to play pong is recorded in the following collection of videos\n",
        "https://www.youtube.com/playlist?list=PLMVwuZENsfJklt4vCltrWq0KV9aEZ3ylu"
      ]
    },
    {
      "cell_type": "markdown",
      "metadata": {
        "id": "4NdwRG-rhvzl"
      },
      "source": [
        "# Worksheet #9: Rewrite Laplan's code using TensorFlow and Keras."
      ]
    }
  ],
  "metadata": {
    "colab": {
      "provenance": []
    },
    "kernelspec": {
      "display_name": "venv-",
      "language": "python",
      "name": "venv-"
    },
    "language_info": {
      "codemirror_mode": {
        "name": "ipython",
        "version": 3
      },
      "file_extension": ".py",
      "mimetype": "text/x-python",
      "name": "python",
      "nbconvert_exporter": "python",
      "pygments_lexer": "ipython3",
      "version": "3.12.10"
    }
  },
  "nbformat": 4,
  "nbformat_minor": 0
}
