{
  "cells": [
    {
      "cell_type": "markdown",
      "metadata": {
        "id": "bBBdgAwBY6yU"
      },
      "source": [
        "# A very brief introduction to Deep Reinforcement Learning"
      ]
    },
    {
      "cell_type": "markdown",
      "metadata": {
        "id": "NEwBRJqcZRIS"
      },
      "source": [
        "Consider an **agent** whose goal is to solve a given problem: finding its way through a maze, finding the best way to solve a logistics problem, learning how to play games (Atari or other digital games, or strategy games like Chess and Go), finding the 3d dimensional structure of proteins, or turning a Large Language Model from an incoherent and rude \"blabbermouth\" into a coherent an polite language generator.\n",
        "\n",
        "In Reinforcement Learning (RL) such problems need to be solved by exploring a given environment: the agent is able to probe the environment by observing its states (that might only contain partial information) and by using a set of actions that (typically) change the state of the environment; moreover, the agent receives stimuli from the environment, in the form of rewards, that depend on the chosen action and state achieved.     "
      ]
    },
    {
      "cell_type": "markdown",
      "metadata": {
        "id": "t2WlC7c3hcXo"
      },
      "source": [
        "To simplify things, let's only consider the case where there is only a finite **observation space**, i.e., a finite set of states\n",
        "\n",
        "$${\\cal S} = \\{s_1,\\ldots,s_N\\}\\;,$$\n",
        "\n",
        "and a finite set of actions, independent of the state,\n",
        "\n",
        "$${\\cal A}=\\{a_1,\\ldots,a_M\\}\\;.$$\n",
        "\n",
        "We will also assume that by taking action $a_i$ in state $s_j$ the agent gets a reward\n",
        "\n",
        "$$R(a_i,s_j) \\in \\mathbb{R}\\;.$$\n",
        "\n",
        "Each agent acts according to a **policy**, that corresponds to a choice of action given the observed state\n",
        "\n",
        "$$\\pi: {\\cal S}\\rightarrow {\\cal A}\\;.$$\n",
        "\n",
        "We will consider discrete time, finite horizon games, i.e., games where the actions are taken in separate moments in time and finish at time $T\\in \\mathbb{Z}^+$. In such a case we can take the sequence of moments to be $\\{0,1,\\ldots,T\\}$, and given a policy $\\pi$ the agent will receive a sequence of rewards $\\{R_{\\pi}(0),\\ldots, R_{\\pi}(T)\\}$ with a combined **discounted return** of\n",
        "\n",
        "$$G_{\\pi} = R_{\\pi}(0)+ \\gamma R_{\\pi}(1) + \\gamma^2 R_{\\pi}(2) + \\cdots + \\gamma^T R_{\\pi}(T) = \\sum_{t=0}^{T} \\gamma^t R_{\\pi}(t)\\;,$$\n",
        "\n",
        "where we have included a discount factor $0<\\gamma \\leq 1$. If $\\gamma < 1$, the goal of the discount factor is to make future rewards less relevant to the agent's decisions at times $t< T$.   \n",
        "\n",
        "Naturally, the goal of the agent is to find an optimal policy $\\pi^*$, i.e., a policy that maximizes the return\n",
        "\n",
        "$$G_{\\pi^*} = \\max_{\\pi} G_{\\pi}\\,.$$\n",
        "\n",
        "This setting can be generalized to a stochastic context, where taking a given action does not lead to a determined (next) state but instead gives rise to a probability distribution over the states. In such a case, the rewards become random variables, and the return is then given by an expectation value. To simplify our presentation, we'll not formalize this important generalization.\n",
        "\n",
        "\n",
        "\n"
      ]
    },
    {
      "cell_type": "markdown",
      "metadata": {
        "id": "9yucOHj7-Qzm"
      },
      "source": [
        "We'll now explore some of the previous concepts in Gymnasium \"An API standard for reinforcement learning with a diverse collection of reference environments\"\n",
        "https://gymnasium.farama.org/index.html\n",
        "\n",
        "To start let's consider Frozen Lake https://gymnasium.farama.org/environments/toy_text/frozen_lake/"
      ]
    },
    {
      "cell_type": "code",
      "execution_count": 1,
      "metadata": {
        "id": "DBy3uuKRhbDx"
      },
      "outputs": [],
      "source": [
        "import gymnasium as gym\n",
        "\n",
        "ENV_NAME = \"FrozenLake-v1\"\n",
        "env = gym.make(ENV_NAME, is_slippery=False)"
      ]
    },
    {
      "cell_type": "markdown",
      "metadata": {
        "id": "O8apnz0N_T-W"
      },
      "source": [
        "In this case the observation space has 16 states coded by a disctinct integer."
      ]
    },
    {
      "cell_type": "code",
      "execution_count": 2,
      "metadata": {
        "colab": {
          "base_uri": "https://localhost:8080/"
        },
        "id": "5H-MvnvWY0bP",
        "outputId": "d24bd48d-45c8-4273-bed0-60531d7e9e10"
      },
      "outputs": [
        {
          "data": {
            "text/plain": [
              "Discrete(16)"
            ]
          },
          "execution_count": 2,
          "metadata": {},
          "output_type": "execute_result"
        }
      ],
      "source": [
        "env.observation_space"
      ]
    },
    {
      "cell_type": "markdown",
      "metadata": {
        "id": "xhYy3sEV_uUC"
      },
      "source": [
        "There are 4 actions,\n",
        "\n",
        "    0: Move left\n",
        "\n",
        "    1: Move down\n",
        "\n",
        "    2: Move right\n",
        "\n",
        "    3: Move up\n"
      ]
    },
    {
      "cell_type": "code",
      "execution_count": 3,
      "metadata": {
        "colab": {
          "base_uri": "https://localhost:8080/"
        },
        "id": "-KDKz9uT_QHt",
        "outputId": "d5569c2d-e9ea-4584-b635-59fc9cdf7925"
      },
      "outputs": [
        {
          "data": {
            "text/plain": [
              "Discrete(4)"
            ]
          },
          "execution_count": 3,
          "metadata": {},
          "output_type": "execute_result"
        }
      ],
      "source": [
        "env.action_space # quantidade de ações possiveis"
      ]
    },
    {
      "cell_type": "code",
      "execution_count": 4,
      "metadata": {
        "colab": {
          "base_uri": "https://localhost:8080/"
        },
        "id": "FZhxWjLA2fV-",
        "outputId": "9bccd7e7-11c5-469c-a99d-bb9a65490316"
      },
      "outputs": [
        {
          "data": {
            "text/plain": [
              "np.int64(1)"
            ]
          },
          "execution_count": 4,
          "metadata": {},
          "output_type": "execute_result"
        }
      ],
      "source": [
        "# generate a random action\n",
        "env.action_space.sample()"
      ]
    },
    {
      "cell_type": "markdown",
      "metadata": {
        "id": "Uslx3CWQAOAi"
      },
      "source": [
        "In this case, when we reset the environment we always start in the \"first\" position. in other cases the envoronment can reset at different states."
      ]
    },
    {
      "cell_type": "code",
      "execution_count": 5,
      "metadata": {
        "colab": {
          "base_uri": "https://localhost:8080/"
        },
        "id": "X6lmIlgH_bNC",
        "outputId": "c28f551a-24b6-4aeb-ce25-ffc81139c909"
      },
      "outputs": [
        {
          "data": {
            "text/plain": [
              "0"
            ]
          },
          "execution_count": 5,
          "metadata": {},
          "output_type": "execute_result"
        }
      ],
      "source": [
        "obs,_ = env.reset()\n",
        "obs"
      ]
    },
    {
      "cell_type": "markdown",
      "metadata": {
        "id": "Dc-eDfDM2-5M"
      },
      "source": [
        "Taking an action results in a new-state, a reward and information concerning if we reached the end of the game, either because we've achieved and end state or reached a maximum number of allowed steps.  "
      ]
    },
    {
      "cell_type": "code",
      "execution_count": 6,
      "metadata": {
        "colab": {
          "base_uri": "https://localhost:8080/"
        },
        "id": "qZkMSMYM2pQT",
        "outputId": "03331d18-26a0-4853-f519-1ca58695d237"
      },
      "outputs": [
        {
          "name": "stdout",
          "output_type": "stream",
          "text": [
            "0 0.0 False False\n"
          ]
        }
      ],
      "source": [
        "action = 3\n",
        "new_state, reward, is_done, is_trunc, _ = env.step(action) # is_trunc é o numero maximo de ações antes de acabar\n",
        "print(new_state, reward, is_done, is_trunc)"
      ]
    },
    {
      "cell_type": "markdown",
      "metadata": {
        "id": "yC9y72md4D1q"
      },
      "source": [
        "Let's create agents that play randomly and collect the corresponding rewards.  "
      ]
    },
    {
      "cell_type": "code",
      "execution_count": 7,
      "metadata": {
        "id": "1lERIBbTAiPH"
      },
      "outputs": [],
      "source": [
        "class Agent_Random:\n",
        "    def __init__(self):\n",
        "        self.total_reward = 0.0\n",
        "\n",
        "    def step(self, env):\n",
        "        action = env.action_space.sample()\n",
        "        new_state, reward, is_done, is_trunc, _ = env.step(action)\n",
        "        self.total_reward += reward\n",
        "        return  new_state, reward, is_done, is_trunc"
      ]
    },
    {
      "cell_type": "code",
      "execution_count": 8,
      "metadata": {
        "colab": {
          "base_uri": "https://localhost:8080/"
        },
        "collapsed": true,
        "id": "ixV2I8Vq5u4J",
        "outputId": "e8d87694-8e27-489b-8456-d66b09b9e994"
      },
      "outputs": [
        {
          "name": "stdout",
          "output_type": "stream",
          "text": [
            "0 0.0 False False\n",
            "0 0.0 False False\n",
            "1 0.0 False False\n",
            "0 0.0 False False\n",
            "0 0.0 False False\n",
            "1 0.0 False False\n",
            "1 0.0 False False\n",
            "0 0.0 False False\n",
            "4 0.0 False False\n",
            "4 0.0 False False\n",
            "8 0.0 False False\n",
            "12 0.0 True False\n"
          ]
        },
        {
          "data": {
            "text/plain": [
              "0.0"
            ]
          },
          "execution_count": 8,
          "metadata": {},
          "output_type": "execute_result"
        }
      ],
      "source": [
        "ENV_NAME = \"FrozenLake-v1\"\n",
        "env = gym.make(ENV_NAME)\n",
        "\n",
        "agent = Agent_Random()\n",
        "\n",
        "env.reset()\n",
        "done = False\n",
        "\n",
        "while not done:\n",
        "  new_state, reward, is_done, is_trunc  = agent.step(env)\n",
        "  print(new_state, reward, is_done, is_trunc)\n",
        "  done = is_done or is_trunc\n",
        "\n",
        "agent.total_reward"
      ]
    },
    {
      "cell_type": "markdown",
      "metadata": {
        "id": "YVkze7qn67Oo"
      },
      "source": [
        "We'll now visualize our agent in action"
      ]
    },
    {
      "cell_type": "code",
      "execution_count": 9,
      "metadata": {
        "colab": {
          "base_uri": "https://localhost:8080/",
          "height": 525
        },
        "collapsed": true,
        "id": "p1SO50c86mJY",
        "outputId": "4f28b4fe-08b2-4bda-8322-f85aa6217b9c"
      },
      "outputs": [
        {
          "name": "stderr",
          "output_type": "stream",
          "text": [
            "/mnt/DataDisk/PersonalFiles/2025/Masters/FMAP -  Fundamentos Matemáticos para Aprendizagem Profunda/FMAP-Project/.venv/lib/python3.12/site-packages/pygame/pkgdata.py:25: UserWarning: pkg_resources is deprecated as an API. See https://setuptools.pypa.io/en/latest/pkg_resources.html. The pkg_resources package is slated for removal as early as 2025-11-30. Refrain from using this package or pin to Setuptools<81.\n",
            "  from pkg_resources import resource_stream, resource_exists\n"
          ]
        },
        {
          "name": "stdout",
          "output_type": "stream",
          "text": [
            "0 0.0 False False\n",
            "0 0.0 False False\n",
            "0 0.0 False False\n",
            "4 0.0 False False\n",
            "0 0.0 False False\n",
            "1 0.0 False False\n",
            "0 0.0 False False\n",
            "4 0.0 False False\n",
            "4 0.0 False False\n",
            "8 0.0 False False\n",
            "9 0.0 False False\n",
            "13 0.0 False False\n",
            "12 0.0 True False\n"
          ]
        },
        {
          "data": {
            "text/html": [
              "\n",
              "<video width=400 controls>\n",
              "    <source src=\"data:video/mp4;base64,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\" type=\"video/mp4\">\n",
              "</video>\n"
            ],
            "text/plain": [
              "<IPython.core.display.HTML object>"
            ]
          },
          "execution_count": 9,
          "metadata": {},
          "output_type": "execute_result"
        }
      ],
      "source": [
        "import gymnasium as gym\n",
        "import imageio\n",
        "\n",
        "# is slippery makes it so, when it goes to the left, there is a 1/3 probability of going to where we wan or the other two adjacent actions\n",
        "env = gym.make(ENV_NAME, render_mode=\"rgb_array\", is_slippery=False)\n",
        "obs, _ = env.reset(seed=0)\n",
        "done = False\n",
        "frames = []\n",
        "\n",
        "while not done:\n",
        "    frames.append(env.render())\n",
        "    new_state, reward, is_done, is_trunc  = agent.step(env)\n",
        "    print(new_state, reward, is_done, is_trunc)\n",
        "    done =  is_done or is_trunc\n",
        "frames.append(env.render())\n",
        "\n",
        "env.close()\n",
        "\n",
        "# Save to video\n",
        "imageio.mimsave(\"pong_video.mp4\", frames, fps=5)\n",
        "\n",
        "# Show video\n",
        "from IPython.display import HTML\n",
        "from base64 import b64encode\n",
        "\n",
        "mp4 = open(\"pong_video.mp4\", 'rb').read()\n",
        "data_url = \"data:video/mp4;base64,\" + b64encode(mp4).decode()\n",
        "\n",
        "HTML(f\"\"\"\n",
        "<video width=400 controls>\n",
        "    <source src=\"{data_url}\" type=\"video/mp4\">\n",
        "</video>\n",
        "\"\"\")"
      ]
    },
    {
      "cell_type": "markdown",
      "metadata": {
        "id": "veBCQ2cL8FCi"
      },
      "source": [
        "**Exercise**: Build a class whose agents always choose to go left. And another whose agents choose left 50% of the time and right the other 50%.\n",
        "\n",
        "**Exercise**: Change the environment to \"Taxi-v3\"."
      ]
    },
    {
      "cell_type": "markdown",
      "metadata": {
        "id": "tlvVsQsJ9M8W"
      },
      "source": [
        "To see how an agent can learn an optimal policy, we will very briefly recall the idea of **value function** and the fundamental result captured by **Bellman's equation**.\n",
        "\n",
        "Given a discount factor $\\gamma\\in]0,1]$ and a policy\n",
        "$\\pi:{\\cal S}\\rightarrow {\\cal A}$, we define the associated (state-action) value function to be the function\n",
        "\n",
        "$$Q_{\\pi}:{\\cal S}\\times{\\cal A}\\rightarrow \\mathbb{R}$$\n",
        "\n",
        "such that $Q_{\\pi}(s,a)$ *equals the (expected) discounted reward obtained by choosing action $a$ at state $s$ and then following policy $\\pi$ until the end of the game*.\n",
        "\n",
        "Now consider the value function $Q = Q_{\\pi^*}$ associated with an optimal policy $\\pi^*$. A fundamental mathematical result underlying important achievements in RL is the fact that (the optimal) $Q$ is a solution of Bellman's equation\n",
        "\n",
        "$$ Q(s,a) = R(s,a) + \\max_{a'\\in {\\cal A}} Q(s',a') \\;, $$\n",
        "\n",
        "where $s'$ is the state reached from state $s$, by taking action $a$. Once again, we are simplifying the presentation by only considering the deterministic setup."
      ]
    },
    {
      "cell_type": "markdown",
      "metadata": {
        "id": "Kaug7ZYaC5pT"
      },
      "source": [
        "# Q - tabular learning\n",
        "\n",
        "We'll now describe an implementation of the Q-tabular learning algorithm, following the presentation in Chapter 5 of Lapan's \"Deep Reinforcement Learning Hands On - Third Edition\".\n",
        "\n",
        "\n",
        "1. The idea for this algorithm is to construct a double entry table for the $Q$ values (we'll use a dictionary with keys (state,action) and values equal to the Q-values).  \n",
        "\n",
        "2. In the beginning, our values dictionary is empty because our agent doesn't know anything about the environment.\n",
        "\n",
        "3. To learn about the environment, in each step, the agent performs a random action and records the corresponding transition information in a tuple $(s,a,r,s')=$(state/estado atual, action, reward, new_state).\n",
        "\n",
        "4. Then it updates the $Q$ value using this new information, by using the rule\n",
        "\n",
        "$$Q(s,a) \\leftarrow (1-\\alpha)Q(s,a) + \\alpha (r + \\gamma\\max_{a'}Q(s',a'))\\;.$$\n",
        "\n",
        "- Isto $\\alpha (r + \\gamma\\max_{a'}Q(s',a'))\\;$ é a equação de bellman, o outro termo: $(1-\\alpha)Q(s,a)$ é para uma especie de media, se o alpha for proximo de $0$, conta mais o valor antigo, se for $1$, só conta o novo valor.\n",
        "\n",
        "For $\\alpha=1$ the update rule corresponds to a fixed point iteration of Bellman's equation (for which there are very useful convergence results); the inclusion of an $\\alpha\\in ]0,1]$ is useful, in practice, as it provides numerical stability.\n",
        "\n",
        "5. After a fixed number of iterations (TEST_TIME) of the previous two steps, we test how well our agent as learned. This is done by playing a given number (TEST_EPISODES) of complete episodes/games and checking if the average discounted return achieves a fixed threshold (MEAN_REWARD_GOAL). If that is the case, we stop training; otherwise, we return to step 2."
      ]
    },
    {
      "cell_type": "code",
      "execution_count": 10,
      "metadata": {
        "id": "Sb3EuaVu7zBo"
      },
      "outputs": [
        {
          "name": "stderr",
          "output_type": "stream",
          "text": [
            "2025-07-02 21:33:27.328606: E external/local_xla/xla/stream_executor/cuda/cuda_fft.cc:467] Unable to register cuFFT factory: Attempting to register factory for plugin cuFFT when one has already been registered\n",
            "WARNING: All log messages before absl::InitializeLog() is called are written to STDERR\n",
            "E0000 00:00:1751488407.493216   11509 cuda_dnn.cc:8579] Unable to register cuDNN factory: Attempting to register factory for plugin cuDNN when one has already been registered\n",
            "E0000 00:00:1751488407.545085   11509 cuda_blas.cc:1407] Unable to register cuBLAS factory: Attempting to register factory for plugin cuBLAS when one has already been registered\n",
            "W0000 00:00:1751488407.890818   11509 computation_placer.cc:177] computation placer already registered. Please check linkage and avoid linking the same target more than once.\n",
            "W0000 00:00:1751488407.890863   11509 computation_placer.cc:177] computation placer already registered. Please check linkage and avoid linking the same target more than once.\n",
            "W0000 00:00:1751488407.890868   11509 computation_placer.cc:177] computation placer already registered. Please check linkage and avoid linking the same target more than once.\n",
            "W0000 00:00:1751488407.890872   11509 computation_placer.cc:177] computation placer already registered. Please check linkage and avoid linking the same target more than once.\n",
            "2025-07-02 21:33:27.929716: I tensorflow/core/platform/cpu_feature_guard.cc:210] This TensorFlow binary is optimized to use available CPU instructions in performance-critical operations.\n",
            "To enable the following instructions: AVX2 FMA, in other operations, rebuild TensorFlow with the appropriate compiler flags.\n"
          ]
        }
      ],
      "source": [
        "import typing as tt\n",
        "import gymnasium as gym\n",
        "from collections import defaultdict, Counter\n",
        "from torch.utils.tensorboard.writer import SummaryWriter"
      ]
    },
    {
      "cell_type": "code",
      "execution_count": 11,
      "metadata": {
        "id": "YTUDIGigDOwr"
      },
      "outputs": [],
      "source": [
        "State = int\n",
        "Action = int\n",
        "ValuesKey = tt.Tuple[State, Action]\n",
        "\n",
        "class Agent:\n",
        "  def __init__(self, env):\n",
        "      self.env = env\n",
        "      self.state, _ = self.env.reset()\n",
        "      self.values: tt.Dict[ValuesKey, float] = defaultdict(float) # dicionario que guarda os valores\n",
        "      # values keys são o estado e a ação, é o que recebe\n",
        "      # devolve um float, o valor do Q\n",
        "\n",
        "\n",
        "  def sample_env(self) -> tt.Tuple[State, Action, float, State]:\n",
        "      action = self.env.action_space.sample()\n",
        "      old_state = self.state\n",
        "      new_state, reward, is_done, is_trunc, _ = self.env.step(action)\n",
        "      if is_done or is_trunc:\n",
        "        self.state, _ = self.env.reset() # renecializa o jogo\n",
        "      else:\n",
        "        self.state = new_state\n",
        "      return old_state, action, float(reward), new_state\n",
        "\n",
        "  def best_value_and_action(self, state: State) -> tt.Tuple[float, State]: # vê melhor ação para cada state\n",
        "    best_action, best_value = None, None\n",
        "    for action in range(self.env.action_space.n):\n",
        "      action_value = self.values[(state, action)]\n",
        "      if best_value is None or best_value < action_value:\n",
        "          best_value = action_value\n",
        "          best_action = action\n",
        "    return best_value, best_action\n",
        "\n",
        "  def value_update(self, state: State, action: Action, reward: float, next_state: State):\n",
        "      best_value, _ = self.best_value_and_action(next_state)\n",
        "      new_value = reward + GAMMA*best_value\n",
        "      old_value = self.values[(state, action)]\n",
        "      self.values[(state, action)] = (1-ALPHA)*old_value + ALPHA*new_value\n",
        "\n",
        "  def play_episode(self, env: gym.Env) -> float:\n",
        "    total_reward = 0.0\n",
        "    state, _ = env.reset()\n",
        "    while True:\n",
        "        _ , best_action = self.best_value_and_action(state)\n",
        "        new_state, reward, is_done, is_trunc, _ = env.step(best_action)\n",
        "        total_reward += reward\n",
        "        if is_done or is_trunc:\n",
        "          break\n",
        "        state = new_state\n",
        "    return total_reward"
      ]
    },
    {
      "cell_type": "code",
      "execution_count": 12,
      "metadata": {
        "colab": {
          "base_uri": "https://localhost:8080/"
        },
        "collapsed": true,
        "id": "bZ_pdtnPDZLh",
        "outputId": "b9ac8fea-c61e-4663-b633-aa64b444e0df"
      },
      "outputs": [
        {
          "name": "stdout",
          "output_type": "stream",
          "text": [
            "iter_no=3000\n",
            "3000: Best reward updated 0.0 -> 1.0\n",
            "Solved in 3000 iterations!\n"
          ]
        }
      ],
      "source": [
        "# If ENV_NAME is \"FrozenLake-v1\", add \"is_slippery = False\" ...\n",
        "#... to env constructor to obtain a deterministic game.\n",
        "\n",
        "ENV_NAME =   \"FrozenLake-v1\" # \"Taxi-v3\"\n",
        "env = gym.make((ENV_NAME), is_slippery = False)\n",
        "test_env = gym.make((ENV_NAME), is_slippery = False)\n",
        "agent = Agent(env)\n",
        "\n",
        "#ENV_NAME =   \"Taxi-v3\"\n",
        "#env = gym.make((ENV_NAME))\n",
        "#test_env = gym.make((ENV_NAME))\n",
        "#agent = Agent(env)\n",
        "\n",
        "GAMMA = 0.9\n",
        "ALPHA = 0.2\n",
        "TEST_EPISODES = 20\n",
        "MEAN_REWARD_GOAL = .8 # se calhar no taxi queriamos tipo 4 ou 8, que é o reward quando paramos\n",
        "# MEAN_REWARD_GOAL = 8\n",
        "TEST_TIME = 3000\n",
        "\n",
        "iter_no = 0\n",
        "best_reward = 0.0\n",
        "while True:\n",
        "  iter_no += 1\n",
        "  state, action, reward, next_state = agent.sample_env() # jogamos ao calhas, temos nova informação\n",
        "  agent.value_update(state, action, reward, next_state) # usamos essa informação para atualizar a tabela com a eq de bellman\n",
        "  if iter_no % TEST_TIME == 0:\n",
        "    print(f\"iter_no={iter_no}\")\n",
        "    reward = 0.0\n",
        "    for _ in range(TEST_EPISODES):\n",
        "      reward += agent.play_episode(test_env)\n",
        "    reward /= TEST_EPISODES\n",
        "    if reward > best_reward:\n",
        "        print(f\"{iter_no}: Best reward updated {best_reward:.3} -> {reward:.3}\")\n",
        "        best_reward = reward\n",
        "    if reward > MEAN_REWARD_GOAL:\n",
        "        print(\"Solved in %d iterations!\" % iter_no)\n",
        "        break"
      ]
    },
    {
      "cell_type": "markdown",
      "metadata": {
        "id": "uVRvOOEbECQ6"
      },
      "source": [
        "Let's see our optimal agent in action."
      ]
    },
    {
      "cell_type": "code",
      "execution_count": 13,
      "metadata": {
        "colab": {
          "base_uri": "https://localhost:8080/",
          "height": 421
        },
        "collapsed": true,
        "id": "KzmX7_aEEOV5",
        "outputId": "2e58332c-9de6-47b0-e51b-cdc949c30fef"
      },
      "outputs": [
        {
          "data": {
            "text/html": [
              "\n",
              "<video width=400 controls>\n",
              "    <source src=\"data:video/mp4;base64,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\" type=\"video/mp4\">\n",
              "</video>\n"
            ],
            "text/plain": [
              "<IPython.core.display.HTML object>"
            ]
          },
          "execution_count": 13,
          "metadata": {},
          "output_type": "execute_result"
        }
      ],
      "source": [
        "import gymnasium as gym\n",
        "import imageio\n",
        "\n",
        "env = gym.make(ENV_NAME, render_mode=\"rgb_array\", is_slippery = False)\n",
        "state, _ = env.reset()\n",
        "done = False\n",
        "frames = []\n",
        "\n",
        "while not done:\n",
        "    frames.append(env.render())\n",
        "    #\n",
        "    best_value, best_action = agent.best_value_and_action(state)\n",
        "    new_state, reward, is_done, is_trunc, _ = env.step(best_action)\n",
        "    #\n",
        "    # to compare with random agent, comment the previous 2 lines and uncomment the next 2\n",
        "    #\n",
        "    #random_action = env.action_space.sample()\n",
        "    #new_state, reward, is_done, is_trunc, _ = env.step(random_action)\n",
        "    #\n",
        "    done =  is_done or is_trunc\n",
        "    state = new_state\n",
        "frames.append(env.render())\n",
        "\n",
        "env.close()\n",
        "\n",
        "# Save to video\n",
        "imageio.mimsave(\"pong_video.mp4\", frames, fps=5)\n",
        "\n",
        "# Show video\n",
        "from IPython.display import HTML\n",
        "from base64 import b64encode\n",
        "\n",
        "mp4 = open(\"pong_video.mp4\", 'rb').read()\n",
        "data_url = \"data:video/mp4;base64,\" + b64encode(mp4).decode()\n",
        "\n",
        "HTML(f\"\"\"\n",
        "<video width=400 controls>\n",
        "    <source src=\"{data_url}\" type=\"video/mp4\">\n",
        "</video>\n",
        "\"\"\")"
      ]
    },
    {
      "cell_type": "markdown",
      "metadata": {
        "id": "2_yxCfjvnS_I"
      },
      "source": [
        "# Deep Q Learning.  "
      ]
    },
    {
      "cell_type": "markdown",
      "metadata": {
        "id": "U9p2ibhhp-ta"
      },
      "source": [
        "If the number of states becomes too large, tabular learning becomes unfeasible. A way to circumvent this problem is to model $Q$ as a deep neural network that receives as inputs the state and the action, and outputs the corresponding $Q$ value. The parameters of this network can then be learned via gradient descent by considering a loss that measures how far $Q$ is from satisfying Bellman's equation.\n",
        "\n",
        "This is the basic conceptual idea behind the major breakthrough made in 2013 by a team from DeepMind https://arxiv.org/abs/1312.5602, which allowed them to train a DQN (Deep Q Network) to play several Atari games; in fact, the networke learned \"by itself\" starting from the pixel data of the frames of the computer games. This remarkable breakthrough was the starting point to a spectacular series of achievements that included mastering high-complexity strategy games such as chess and Go, and most importantly, the computation of the 3D structure of proteins https://www.nobelprize.org/prizes/chemistry/2024/summary/.  "
      ]
    },
    {
      "cell_type": "markdown",
      "metadata": {
        "id": "AappnB_LtXdi"
      },
      "source": [
        "A naive version of the DQN algorithm allude to above, can be summarizes as follows:\n",
        "\n",
        "1. Initialize $Q(s, a)$ using a standard deep learning initialization.\n",
        "\n",
        "2. By interacting with the environment, obtain the tuple $(s, a, r, s')$.\n",
        "\n",
        "3. Compute the loss:\n",
        "\n",
        "$${\\cal L} =\n",
        "\\left\\{\n",
        "\\begin{array}{l}\n",
        " (Q(s, a) - r)^2  \\quad,\\text{ if episode ended}\\;, \\\\\n",
        " (Q(s, a) - (r + \\gamma \\max_{a'} Q(s' ,a'))^2 \\quad, \\text{ otherwise} \\;.\n",
        "\\end{array}\n",
        "\\right.\n",
        "$$\n",
        "\n",
        "4. Update $Q(s, a)$ using an appropriate gradient descent based algorithm, to minimize the loss with respect to the $Q$ model parameters.\n",
        "\n",
        "5. Repeat from step 2 until convergence (in the sense described for tabular-$Q$ learning) is achieved."
      ]
    },
    {
      "cell_type": "markdown",
      "metadata": {
        "id": "wCs21Aj2b50h"
      },
      "source": [
        "We'll now focus on a single Atari game, the iconic Pong https://ale.farama.org/environments/pong/."
      ]
    },
    {
      "cell_type": "code",
      "execution_count": 14,
      "metadata": {
        "colab": {
          "base_uri": "https://localhost:8080/"
        },
        "collapsed": true,
        "id": "PhOeajsRcnXZ",
        "outputId": "7d16ec35-c3b7-496b-f702-ac621af9973c"
      },
      "outputs": [],
      "source": [
        "# !pip install 'stable_baselines3'"
      ]
    },
    {
      "cell_type": "code",
      "execution_count": 15,
      "metadata": {
        "colab": {
          "base_uri": "https://localhost:8080/",
          "height": 268
        },
        "id": "MZeLCmSQb5IR",
        "outputId": "9f89fbec-7b4a-4b1c-9515-b08739f1c4cd"
      },
      "outputs": [
        {
          "name": "stdout",
          "output_type": "stream",
          "text": [
            "(210, 160, 3)\n"
          ]
        },
        {
          "name": "stderr",
          "output_type": "stream",
          "text": [
            "A.L.E: Arcade Learning Environment (version 0.11.1+2750686)\n",
            "[Powered by Stella]\n"
          ]
        },
        {
          "data": {
            "text/plain": [
              "array([[[  0,   0,   0],\n",
              "        [  0,   0,   0],\n",
              "        [  0,   0,   0],\n",
              "        ...,\n",
              "        [109, 118,  43],\n",
              "        [109, 118,  43],\n",
              "        [109, 118,  43]],\n",
              "\n",
              "       [[109, 118,  43],\n",
              "        [109, 118,  43],\n",
              "        [109, 118,  43],\n",
              "        ...,\n",
              "        [109, 118,  43],\n",
              "        [109, 118,  43],\n",
              "        [109, 118,  43]],\n",
              "\n",
              "       [[109, 118,  43],\n",
              "        [109, 118,  43],\n",
              "        [109, 118,  43],\n",
              "        ...,\n",
              "        [109, 118,  43],\n",
              "        [109, 118,  43],\n",
              "        [109, 118,  43]],\n",
              "\n",
              "       ...,\n",
              "\n",
              "       [[ 53,  95,  24],\n",
              "        [ 53,  95,  24],\n",
              "        [ 53,  95,  24],\n",
              "        ...,\n",
              "        [ 53,  95,  24],\n",
              "        [ 53,  95,  24],\n",
              "        [ 53,  95,  24]],\n",
              "\n",
              "       [[ 53,  95,  24],\n",
              "        [ 53,  95,  24],\n",
              "        [ 53,  95,  24],\n",
              "        ...,\n",
              "        [ 53,  95,  24],\n",
              "        [ 53,  95,  24],\n",
              "        [ 53,  95,  24]],\n",
              "\n",
              "       [[ 53,  95,  24],\n",
              "        [ 53,  95,  24],\n",
              "        [ 53,  95,  24],\n",
              "        ...,\n",
              "        [ 53,  95,  24],\n",
              "        [ 53,  95,  24],\n",
              "        [ 53,  95,  24]]], dtype=uint8)"
            ]
          },
          "execution_count": 15,
          "metadata": {},
          "output_type": "execute_result"
        }
      ],
      "source": [
        "import gymnasium as gym\n",
        "from gymnasium import spaces\n",
        "from stable_baselines3.common import atari_wrappers\n",
        "import ale_py\n",
        "\n",
        "env = gym.make(\"PongNoFrameskip-v4\", render_mode=\"rgb_array\")\n",
        "\n",
        "obs,_ = env.reset()\n",
        "\n",
        "print(obs.shape)\n",
        "\n",
        "env.render()"
      ]
    },
    {
      "cell_type": "markdown",
      "metadata": {
        "id": "wbSoytnibWas"
      },
      "source": [
        "Unfortunately, the previous version of DQN doesn't work very well. So we need to do perform some upgrades.\n",
        "\n",
        "- On one hand, we need to explore the environment (using random actions); on the other, we want to use the knowledge gained by the $Q$-function; this is the famous \"exploration versus exploitation dilemma\".  We will resolve this dilemma by introducing a parameter $\\epsilon\\in[0,1]$, that will decrease with the number of iterations, and will be used to decide, with probability $\\epsilon$, if the agent will take a random action or will choose the action prescribed by $Q$.\n",
        "\n",
        "- We will also introduce a **replay buffer**. This will store a \"large\" number of transitions $(s, a, r, s')$ that will be used to construct training data batches to update the parameters of $Q$ using gradient descent.\n",
        "\n",
        "- Finally, using $Q$ itself to generate the targets for the loss will make the training very unstable. To circumvent this problem, we will introduce another DQN $\\hat Q$, called the **target network**, that is periodically synchronized with the main $Q$ network, but otherwise remains unchanged for a given number of iterations.   \n",
        "\n",
        "o $\\epsilon$ vai dexendo e quando chega a 0.5, metade das vezes explora, metade das vezes faz a melhor ação\n"
      ]
    },
    {
      "cell_type": "markdown",
      "metadata": {
        "id": "_zfjMdN1OO5S"
      },
      "source": [
        "Upgraded DQN algorithm:  \n",
        "\n",
        "1. Initialize parameters for $Q(s,a)$ and $\\hat Q(s,a)$,$\\;\\epsilon \\leftarrow 1.0$, and empty the replay buffer.\n",
        "\n",
        "2. With probability $\\epsilon$, select a random action $a$; otherwise, $a = \\text{argmax}_a Q(s, a)$.\n",
        "\n",
        "3. Execute action $a$ in an emulator and observe the reward, $r$, and the next state, $s'$.\n",
        "\n",
        "4. Store the transition $(s, a, r, s')$ in the replay buffer.\n",
        "\n",
        "5. Sample a random mini-batch of transitions from the replay buffer.\n",
        "\n",
        "6. For every transition in the buffer, calculate the target:\n",
        "\n",
        "$$\n",
        "y =\n",
        "\\left\\{\n",
        "\\begin{array}{l}\n",
        " r  \\quad,\\text{ if episode ended}\\;, \\\\\n",
        " r + \\gamma \\max_{a'} \\hat Q(s' ,a') \\quad, \\text{ otherwise} \\;.\n",
        "\\end{array}\n",
        "\\right.\n",
        "$$\n",
        "\n",
        "7. Calculate the loss: ${\\cal L}=(Q(s,a)-y)^2$.\n",
        "\n",
        "8. Update $Q(s, a)$ using an appropriate gradient descent based algorithm, to minimize the loss with respect to the $Q$ model parameters.\n",
        "\n",
        "9. Repeat from step 2 until convergence (in the sense described before) is achieved.\n"
      ]
    },
    {
      "cell_type": "markdown",
      "metadata": {
        "id": "f7UB14l5VB7d"
      },
      "source": [
        "We will now present the Lapan's implementation of this algorithm, as exposed in chapter 6 of his book; see also\n",
        "https://github.com/PacktPublishing/Deep-Reinforcement-Learning-Hands-On-Third-Edition.\n",
        "\n",
        "Note that Lapan uses PyTorch to implement the DQNs. It is a quite instructive exercise to translate the code to tensorflow/keras.  "
      ]
    },
    {
      "cell_type": "markdown",
      "metadata": {
        "id": "xpamMumdWN-r"
      },
      "source": [
        "# **Wrappers:** For efficiency and conceptual reasons, we need to preprocess the environment. For instance:\n",
        "\n",
        "- We can reduce the game frames by considering only a monochromatic version of them and a lower resolution. This is \"hidden\" in the *atari_wrappers.AtariWrapper* class. After applying this, our images will have a shape of $(84,84,1)$; recall that originally they had a shape equal to $(210,160,3)$. Note that this class takes care of a lot of more relevant preprocessing details (see Chapter 6 of Lapan's book for more details).   \n",
        "\n",
        "- This isn't the way PyTorch is designed to receive information; it expects the form (channels, height, width). The ImageToPyTorch wrapper, presented below, takes care of this.\n",
        "\n",
        "- The agent won't be able to learn how to play Pong if we only provide still images of the game. To learn how to play Pong, we need to learn about dynamics. So we need to pack a given number (n_steps) of consecutive images into a \"small video\" with n_steps frames. This is taken care of by the BufferWrapper (see below).\n",
        "\n",
        "Here is the code for the wrappers.  "
      ]
    },
    {
      "cell_type": "code",
      "execution_count": 16,
      "metadata": {
        "id": "JlM3EYsxZFQg"
      },
      "outputs": [],
      "source": [
        "import numpy as np\n",
        "\n",
        "class ImageToPyTorch(gym.ObservationWrapper):\n",
        "    def __init__(self, env):\n",
        "        super(ImageToPyTorch, self).__init__(env)\n",
        "        obs = self.observation_space\n",
        "        assert isinstance(obs, gym.spaces.Box)\n",
        "        assert len(obs.shape) == 3\n",
        "        new_shape = (obs.shape[-1], obs.shape[0], obs.shape[1])\n",
        "        self.observation_space = gym.spaces.Box(\n",
        "            low=obs.low.min(), high=obs.high.max(),\n",
        "            shape=new_shape, dtype=obs.dtype)\n",
        "\n",
        "    def observation(self, observation):\n",
        "        return np.moveaxis(observation, 2, 0)\n",
        "\n",
        "\n",
        "class BufferWrapper(gym.ObservationWrapper):\n",
        "    def __init__(self, env, n_steps):\n",
        "        super(BufferWrapper, self).__init__(env)\n",
        "        obs = env.observation_space\n",
        "        assert isinstance(obs, spaces.Box)\n",
        "        new_obs = gym.spaces.Box(\n",
        "            obs.low.repeat(n_steps, axis=0), obs.high.repeat(n_steps, axis=0),\n",
        "            dtype=obs.dtype)\n",
        "        self.observation_space = new_obs\n",
        "        self.buffer = collections.deque(maxlen=n_steps)\n",
        "\n",
        "    def reset(self, *, seed: tt.Optional[int] = None, options: tt.Optional[dict[str, tt.Any]] = None):\n",
        "        for _ in range(self.buffer.maxlen-1):\n",
        "            self.buffer.append(self.env.observation_space.low)\n",
        "        obs, extra = self.env.reset()\n",
        "        return self.observation(obs), extra\n",
        "\n",
        "    def observation(self, observation: np.ndarray) -> np.ndarray:\n",
        "        self.buffer.append(observation)\n",
        "        return np.concatenate(self.buffer)\n",
        "\n",
        "\n",
        "def make_env(env_name: str, **kwargs):\n",
        "    env = gym.make(env_name, **kwargs)\n",
        "    env = atari_wrappers.AtariWrapper(env, clip_reward=False, noop_max=0)\n",
        "    env = ImageToPyTorch(env)\n",
        "    env = BufferWrapper(env, n_steps=4)\n",
        "    return env"
      ]
    },
    {
      "cell_type": "markdown",
      "metadata": {
        "id": "MmXLwfJHZO-X"
      },
      "source": [
        "For the DQN model, we will use a typical convolution network, with a conv base followed by a dense network. Importantly, instead of modeling $Q$ as a function of the pair $(s,a)$ that outputs the corresponding value, i.e.,\n",
        "\n",
        "$$Q: {\\cal S}\\times {\\cal A} \\rightarrow \\mathbb{R}\\;,$$\n",
        "\n",
        "where, for our environment, we have\n",
        "\n",
        "$${\\cal S}=\\mathbb{R}^{84\\times 84\\times 4}$$\n",
        "\n",
        "and\n",
        "\n",
        "$${\\cal A} =\\{0,1,2,3,4,5\\} \\subset \\mathbb{R}\\;,$$\n",
        "\n",
        "we will use a dual representation   \n",
        "\n",
        "$$Q: {\\cal S} \\rightarrow \\mathbb{R}^6\\;,$$\n",
        "\n",
        "that given the state, outputs the value for each possible action.\n",
        "\n",
        "The PyTorch code should be, by now, self-explanatory. Notice nonetheless that it requires a bit more work, than the one needed in Keras to set dimensions of the layers."
      ]
    },
    {
      "cell_type": "code",
      "execution_count": 17,
      "metadata": {
        "id": "J6GBp08adVU0"
      },
      "outputs": [],
      "source": [
        "# bom exercicio é traduzir este codigo de torch para keras com tensorflow\n",
        "\n",
        "import torch\n",
        "import torch.nn as nn\n",
        "\n",
        "\n",
        "class DQN(nn.Module):\n",
        "    def __init__(self, input_shape, n_actions):\n",
        "        super(DQN, self).__init__() # ta a fazer init da superclass nn.Module\n",
        "        #__super__().__init\n",
        "\n",
        "        self.conv = nn.Sequential(\n",
        "            nn.Conv2d(input_shape[0], 32, kernel_size=8, stride=4), # convolução\n",
        "            nn.ReLU(), # função de ativação relu\n",
        "            nn.Conv2d(32, 64, kernel_size=4, stride=2), # 32 é igual ao 32 a cima, o keras faz isso automatico\n",
        "            nn.ReLU(),\n",
        "            nn.Conv2d(64, 64, kernel_size=3, stride=1),\n",
        "            nn.ReLU(),\n",
        "            nn.Flatten(),\n",
        "        )\n",
        "        size = self.conv(torch.zeros(1, *input_shape)).size()[-1] # ta a aplicar o vetor de convolução a um vetor de zeros oara ver o tamanho dele (.size = .shape)\n",
        "        self.fc = nn.Sequential(\n",
        "            nn.Linear(size, 512), # rede densa\n",
        "            nn.ReLU(), # relu\n",
        "            nn.Linear(512, n_actions) # mais uma densa\n",
        "        )\n",
        "\n",
        "    def forward(self, x: torch.ByteTensor):\n",
        "        # scale on GPU\n",
        "        xx = x / 255.0\n",
        "        return self.fc(self.conv(xx))"
      ]
    },
    {
      "cell_type": "markdown",
      "metadata": {
        "id": "cTFQhRa3ddnF"
      },
      "source": [
        "Next we define several parameters and variables and construct the class fro replay buffer.  "
      ]
    },
    {
      "cell_type": "code",
      "execution_count": 18,
      "metadata": {
        "id": "aG1OXGH_dvxj"
      },
      "outputs": [],
      "source": [
        "from dataclasses import dataclass\n",
        "\n",
        "DEFAULT_ENV_NAME = \"PongNoFrameskip-v4\"\n",
        "MEAN_REWARD_BOUND = 19\n",
        "\n",
        "GAMMA = 0.99\n",
        "BATCH_SIZE = 32\n",
        "REPLAY_SIZE = 10000\n",
        "LEARNING_RATE = 1e-4\n",
        "SYNC_TARGET_FRAMES = 1000\n",
        "REPLAY_START_SIZE = 10000\n",
        "\n",
        "EPSILON_DECAY_LAST_FRAME = 150000\n",
        "EPSILON_START = 1.0 # começamos com probabilidade 1 de fazer algo ao calhas\n",
        "EPSILON_FINAL = 0.01 # acabamos com probabilidade 0.01 de fazer algo ao calhas\n",
        "\n",
        "State = np.ndarray\n",
        "Action = int\n",
        "BatchTensors = tt.Tuple[\n",
        "    torch.ByteTensor,           # current state\n",
        "    torch.LongTensor,           # actions\n",
        "    torch.Tensor,               # rewards\n",
        "    torch.BoolTensor,           # done || trunc\n",
        "    torch.ByteTensor            # next state\n",
        "]\n",
        "\n",
        "@dataclass\n",
        "class Experience:\n",
        "    state: State\n",
        "    action: Action\n",
        "    reward: float\n",
        "    done_trunc: bool\n",
        "    new_state: State\n",
        "\n",
        "\n",
        "class ExperienceBuffer:\n",
        "    def __init__(self, capacity: int):\n",
        "        self.buffer = collections.deque(maxlen=capacity)\n",
        "\n",
        "    def __len__(self):\n",
        "        return len(self.buffer)\n",
        "\n",
        "    def append(self, experience: Experience):\n",
        "        self.buffer.append(experience)\n",
        "\n",
        "    def sample(self, batch_size: int) -> tt.List[Experience]:\n",
        "        indices = np.random.choice(len(self), batch_size, replace=False)\n",
        "        return [self.buffer[idx] for idx in indices]"
      ]
    },
    {
      "cell_type": "markdown",
      "metadata": {
        "id": "7MNCg8vueHfi"
      },
      "source": [
        "We now create the agent class."
      ]
    },
    {
      "cell_type": "code",
      "execution_count": 19,
      "metadata": {
        "colab": {
          "base_uri": "https://localhost:8080/",
          "height": 385
        },
        "id": "zknt1frZeSeI",
        "outputId": "255354e7-1eca-4e81-fbb4-734308e83de9"
      },
      "outputs": [],
      "source": [
        "class Agent:\n",
        "    def __init__(self, env: gym.Env, exp_buffer: ExperienceBuffer):\n",
        "        self.env = env\n",
        "        self.exp_buffer = exp_buffer\n",
        "        self.state: tt.Optional[np.ndarray] = None\n",
        "        self._reset()\n",
        "\n",
        "    def _reset(self):\n",
        "        self.state, _ = env.reset()\n",
        "        self.total_reward = 0.0\n",
        "\n",
        "    @torch.no_grad()\n",
        "    def play_step(self, net: DQN, device: torch.device,\n",
        "                  epsilon: float = 0.0) -> tt.Optional[float]:\n",
        "        done_reward = None\n",
        "\n",
        "        if np.random.random() < epsilon: # com probabilidade epsilon joga ao calhas\n",
        "            action = env.action_space.sample()\n",
        "        else: # caso contrario usa a informação do Q\n",
        "            state_v = torch.as_tensor(self.state).to(device)\n",
        "            state_v.unsqueeze_(0) # gera uma dimensão, erro comum\n",
        "            q_vals_v = net(state_v) # gera os Qs\n",
        "            _, act_v = torch.max(q_vals_v, dim=1) # queremos os maiores na dimensão 1\n",
        "            action = int(act_v.item()) # faz a ação que tem o melhor Q\n",
        "\n",
        "        # do step in the environment\n",
        "        new_state, reward, is_done, is_tr, _ = self.env.step(action) # joga essa ação\n",
        "        self.total_reward += reward\n",
        "\n",
        "        exp = Experience( #\n",
        "            state=self.state, action=action, reward=float(reward),\n",
        "            done_trunc=is_done or is_tr, new_state=new_state\n",
        "        )\n",
        "        # informação esta guardada na forma (0,a,r,done,s'). e o buffer é uma lista dessas coisas\n",
        "        self.exp_buffer.append(exp)\n",
        "        self.state = new_state\n",
        "        if is_done or is_tr:\n",
        "            done_reward = self.total_reward\n",
        "            self._reset()\n",
        "        return done_reward"
      ]
    },
    {
      "cell_type": "markdown",
      "metadata": {
        "id": "B6pMmUrjeTzi"
      },
      "source": [
        "We will also need to transform our samples taken from the buffer into tensors that can be fed to our networks. This is achieved by this simple function."
      ]
    },
    {
      "cell_type": "code",
      "execution_count": 20,
      "metadata": {
        "id": "JSLXGUYWeWYH"
      },
      "outputs": [],
      "source": [
        "def batch_to_tensors(batch: tt.List[Experience], device: torch.device) -> BatchTensors:\n",
        "    states, actions, rewards, dones, new_state = [], [], [], [], []\n",
        "    for e in batch:\n",
        "        states.append(e.state)\n",
        "        actions.append(e.action)\n",
        "        rewards.append(e.reward)\n",
        "        dones.append(e.done_trunc)\n",
        "        new_state.append(e.new_state)\n",
        "    states_t = torch.as_tensor(np.asarray(states))\n",
        "    actions_t = torch.LongTensor(actions)\n",
        "    rewards_t = torch.FloatTensor(rewards)\n",
        "    dones_t = torch.BoolTensor(dones)\n",
        "    new_states_t = torch.as_tensor(np.asarray(new_state))\n",
        "    return states_t.to(device), actions_t.to(device), rewards_t.to(device), \\\n",
        "           dones_t.to(device),  new_states_t.to(device)"
      ]
    },
    {
      "cell_type": "markdown",
      "metadata": {
        "id": "spsqJAktfDU9"
      },
      "source": [
        "A not-so-easy piece of code, even being quite small, is the one to compute the loss."
      ]
    },
    {
      "cell_type": "code",
      "execution_count": 21,
      "metadata": {
        "id": "TwIK6i2ifNMj"
      },
      "outputs": [],
      "source": [
        "def calc_loss(batch: tt.List[Experience], net: DQN, tgt_net: DQN,\n",
        "              device: torch.device) -> torch.Tensor:\n",
        "    states_t, actions_t, rewards_t, dones_t, new_states_t = batch_to_tensors(batch, device)\n",
        "\n",
        "    state_action_values = net(states_t).gather(\n",
        "        1, actions_t.unsqueeze(-1)\n",
        "    ).squeeze(-1) # squeeze retira uma dimensão de [[...]] para [...]\n",
        "    with torch.no_grad():\n",
        "        next_state_values = tgt_net(new_states_t).max(1)[0]\n",
        "        next_state_values[dones_t] = 0.0\n",
        "        next_state_values = next_state_values.detach() # não calcular gradientes\n",
        "\n",
        "    expected_state_action_values = next_state_values * GAMMA + rewards_t\n",
        "    return nn.MSELoss()(state_action_values, expected_state_action_values)"
      ]
    },
    {
      "cell_type": "markdown",
      "metadata": {
        "id": "84nZVAyFgCw6"
      },
      "source": [
        "Finally, we have the code for the training loop. Note that this training procedure is quite expensive it will be unfeaseble without the access to a GPU.  "
      ]
    },
    {
      "cell_type": "code",
      "execution_count": 22,
      "metadata": {
        "id": "m-9QeKX_f13p"
      },
      "outputs": [
        {
          "name": "stdout",
          "output_type": "stream",
          "text": [
            "DQN(\n",
            "  (conv): Sequential(\n",
            "    (0): Conv2d(4, 32, kernel_size=(8, 8), stride=(4, 4))\n",
            "    (1): ReLU()\n",
            "    (2): Conv2d(32, 64, kernel_size=(4, 4), stride=(2, 2))\n",
            "    (3): ReLU()\n",
            "    (4): Conv2d(64, 64, kernel_size=(3, 3), stride=(1, 1))\n",
            "    (5): ReLU()\n",
            "    (6): Flatten(start_dim=1, end_dim=-1)\n",
            "  )\n",
            "  (fc): Sequential(\n",
            "    (0): Linear(in_features=3136, out_features=512, bias=True)\n",
            "    (1): ReLU()\n",
            "    (2): Linear(in_features=512, out_features=6, bias=True)\n",
            "  )\n",
            ")\n",
            "910: done 1 games, reward -21.000, eps 0.99, speed 807.54 f/s\n",
            "1792: done 2 games, reward -21.000, eps 0.99, speed 761.64 f/s\n",
            "2796: done 3 games, reward -20.333, eps 0.98, speed 758.08 f/s\n",
            "Best reward updated -21.000 -> -20.333\n",
            "3694: done 4 games, reward -20.500, eps 0.98, speed 687.05 f/s\n",
            "4679: done 5 games, reward -20.400, eps 0.97, speed 743.15 f/s\n",
            "5616: done 6 games, reward -20.333, eps 0.96, speed 632.78 f/s\n",
            "6425: done 7 games, reward -20.429, eps 0.96, speed 699.86 f/s\n",
            "7342: done 8 games, reward -20.375, eps 0.95, speed 730.48 f/s\n"
          ]
        },
        {
          "ename": "KeyboardInterrupt",
          "evalue": "",
          "output_type": "error",
          "traceback": [
            "\u001b[31m---------------------------------------------------------------------------\u001b[39m",
            "\u001b[31mKeyboardInterrupt\u001b[39m                         Traceback (most recent call last)",
            "\u001b[36mCell\u001b[39m\u001b[36m \u001b[39m\u001b[32mIn[22]\u001b[39m\u001b[32m, line 41\u001b[39m\n\u001b[32m     38\u001b[39m frame_idx += \u001b[32m1\u001b[39m\n\u001b[32m     39\u001b[39m epsilon = \u001b[38;5;28mmax\u001b[39m(EPSILON_FINAL, EPSILON_START - frame_idx / EPSILON_DECAY_LAST_FRAME)\n\u001b[32m---> \u001b[39m\u001b[32m41\u001b[39m reward = \u001b[43magent\u001b[49m\u001b[43m.\u001b[49m\u001b[43mplay_step\u001b[49m\u001b[43m(\u001b[49m\u001b[43mnet\u001b[49m\u001b[43m,\u001b[49m\u001b[43m \u001b[49m\u001b[43mdevice\u001b[49m\u001b[43m,\u001b[49m\u001b[43m \u001b[49m\u001b[43mepsilon\u001b[49m\u001b[43m)\u001b[49m\n\u001b[32m     42\u001b[39m \u001b[38;5;28;01mif\u001b[39;00m reward \u001b[38;5;129;01mis\u001b[39;00m \u001b[38;5;129;01mnot\u001b[39;00m \u001b[38;5;28;01mNone\u001b[39;00m:\n\u001b[32m     43\u001b[39m     total_rewards.append(reward)\n",
            "\u001b[36mFile \u001b[39m\u001b[32m/mnt/DataDisk/PersonalFiles/2025/Masters/FMAP -  Fundamentos Matemáticos para Aprendizagem Profunda/FMAP-Project/.venv/lib/python3.12/site-packages/torch/utils/_contextlib.py:116\u001b[39m, in \u001b[36mcontext_decorator.<locals>.decorate_context\u001b[39m\u001b[34m(*args, **kwargs)\u001b[39m\n\u001b[32m    113\u001b[39m \u001b[38;5;129m@functools\u001b[39m.wraps(func)\n\u001b[32m    114\u001b[39m \u001b[38;5;28;01mdef\u001b[39;00m\u001b[38;5;250m \u001b[39m\u001b[34mdecorate_context\u001b[39m(*args, **kwargs):\n\u001b[32m    115\u001b[39m     \u001b[38;5;28;01mwith\u001b[39;00m ctx_factory():\n\u001b[32m--> \u001b[39m\u001b[32m116\u001b[39m         \u001b[38;5;28;01mreturn\u001b[39;00m \u001b[43mfunc\u001b[49m\u001b[43m(\u001b[49m\u001b[43m*\u001b[49m\u001b[43margs\u001b[49m\u001b[43m,\u001b[49m\u001b[43m \u001b[49m\u001b[43m*\u001b[49m\u001b[43m*\u001b[49m\u001b[43mkwargs\u001b[49m\u001b[43m)\u001b[49m\n",
            "\u001b[36mCell\u001b[39m\u001b[36m \u001b[39m\u001b[32mIn[19]\u001b[39m\u001b[32m, line 22\u001b[39m, in \u001b[36mAgent.play_step\u001b[39m\u001b[34m(self, net, device, epsilon)\u001b[39m\n\u001b[32m     20\u001b[39m state_v = torch.as_tensor(\u001b[38;5;28mself\u001b[39m.state).to(device)\n\u001b[32m     21\u001b[39m state_v.unsqueeze_(\u001b[32m0\u001b[39m) \u001b[38;5;66;03m# gera uma dimensão, erro comum\u001b[39;00m\n\u001b[32m---> \u001b[39m\u001b[32m22\u001b[39m q_vals_v = \u001b[43mnet\u001b[49m\u001b[43m(\u001b[49m\u001b[43mstate_v\u001b[49m\u001b[43m)\u001b[49m \u001b[38;5;66;03m# gera os Qs\u001b[39;00m\n\u001b[32m     23\u001b[39m _, act_v = torch.max(q_vals_v, dim=\u001b[32m1\u001b[39m) \u001b[38;5;66;03m# queremos os maiores na dimensão 1\u001b[39;00m\n\u001b[32m     24\u001b[39m action = \u001b[38;5;28mint\u001b[39m(act_v.item()) \u001b[38;5;66;03m# faz a ação que tem o melhor Q\u001b[39;00m\n",
            "\u001b[36mFile \u001b[39m\u001b[32m/mnt/DataDisk/PersonalFiles/2025/Masters/FMAP -  Fundamentos Matemáticos para Aprendizagem Profunda/FMAP-Project/.venv/lib/python3.12/site-packages/torch/nn/modules/module.py:1751\u001b[39m, in \u001b[36mModule._wrapped_call_impl\u001b[39m\u001b[34m(self, *args, **kwargs)\u001b[39m\n\u001b[32m   1749\u001b[39m     \u001b[38;5;28;01mreturn\u001b[39;00m \u001b[38;5;28mself\u001b[39m._compiled_call_impl(*args, **kwargs)  \u001b[38;5;66;03m# type: ignore[misc]\u001b[39;00m\n\u001b[32m   1750\u001b[39m \u001b[38;5;28;01melse\u001b[39;00m:\n\u001b[32m-> \u001b[39m\u001b[32m1751\u001b[39m     \u001b[38;5;28;01mreturn\u001b[39;00m \u001b[38;5;28;43mself\u001b[39;49m\u001b[43m.\u001b[49m\u001b[43m_call_impl\u001b[49m\u001b[43m(\u001b[49m\u001b[43m*\u001b[49m\u001b[43margs\u001b[49m\u001b[43m,\u001b[49m\u001b[43m \u001b[49m\u001b[43m*\u001b[49m\u001b[43m*\u001b[49m\u001b[43mkwargs\u001b[49m\u001b[43m)\u001b[49m\n",
            "\u001b[36mFile \u001b[39m\u001b[32m/mnt/DataDisk/PersonalFiles/2025/Masters/FMAP -  Fundamentos Matemáticos para Aprendizagem Profunda/FMAP-Project/.venv/lib/python3.12/site-packages/torch/nn/modules/module.py:1762\u001b[39m, in \u001b[36mModule._call_impl\u001b[39m\u001b[34m(self, *args, **kwargs)\u001b[39m\n\u001b[32m   1757\u001b[39m \u001b[38;5;66;03m# If we don't have any hooks, we want to skip the rest of the logic in\u001b[39;00m\n\u001b[32m   1758\u001b[39m \u001b[38;5;66;03m# this function, and just call forward.\u001b[39;00m\n\u001b[32m   1759\u001b[39m \u001b[38;5;28;01mif\u001b[39;00m \u001b[38;5;129;01mnot\u001b[39;00m (\u001b[38;5;28mself\u001b[39m._backward_hooks \u001b[38;5;129;01mor\u001b[39;00m \u001b[38;5;28mself\u001b[39m._backward_pre_hooks \u001b[38;5;129;01mor\u001b[39;00m \u001b[38;5;28mself\u001b[39m._forward_hooks \u001b[38;5;129;01mor\u001b[39;00m \u001b[38;5;28mself\u001b[39m._forward_pre_hooks\n\u001b[32m   1760\u001b[39m         \u001b[38;5;129;01mor\u001b[39;00m _global_backward_pre_hooks \u001b[38;5;129;01mor\u001b[39;00m _global_backward_hooks\n\u001b[32m   1761\u001b[39m         \u001b[38;5;129;01mor\u001b[39;00m _global_forward_hooks \u001b[38;5;129;01mor\u001b[39;00m _global_forward_pre_hooks):\n\u001b[32m-> \u001b[39m\u001b[32m1762\u001b[39m     \u001b[38;5;28;01mreturn\u001b[39;00m \u001b[43mforward_call\u001b[49m\u001b[43m(\u001b[49m\u001b[43m*\u001b[49m\u001b[43margs\u001b[49m\u001b[43m,\u001b[49m\u001b[43m \u001b[49m\u001b[43m*\u001b[49m\u001b[43m*\u001b[49m\u001b[43mkwargs\u001b[49m\u001b[43m)\u001b[49m\n\u001b[32m   1764\u001b[39m result = \u001b[38;5;28;01mNone\u001b[39;00m\n\u001b[32m   1765\u001b[39m called_always_called_hooks = \u001b[38;5;28mset\u001b[39m()\n",
            "\u001b[36mCell\u001b[39m\u001b[36m \u001b[39m\u001b[32mIn[17]\u001b[39m\u001b[32m, line 31\u001b[39m, in \u001b[36mDQN.forward\u001b[39m\u001b[34m(self, x)\u001b[39m\n\u001b[32m     28\u001b[39m \u001b[38;5;28;01mdef\u001b[39;00m\u001b[38;5;250m \u001b[39m\u001b[34mforward\u001b[39m(\u001b[38;5;28mself\u001b[39m, x: torch.ByteTensor):\n\u001b[32m     29\u001b[39m     \u001b[38;5;66;03m# scale on GPU\u001b[39;00m\n\u001b[32m     30\u001b[39m     xx = x / \u001b[32m255.0\u001b[39m\n\u001b[32m---> \u001b[39m\u001b[32m31\u001b[39m     \u001b[38;5;28;01mreturn\u001b[39;00m \u001b[38;5;28mself\u001b[39m.fc(\u001b[38;5;28;43mself\u001b[39;49m\u001b[43m.\u001b[49m\u001b[43mconv\u001b[49m\u001b[43m(\u001b[49m\u001b[43mxx\u001b[49m\u001b[43m)\u001b[49m)\n",
            "\u001b[36mFile \u001b[39m\u001b[32m/mnt/DataDisk/PersonalFiles/2025/Masters/FMAP -  Fundamentos Matemáticos para Aprendizagem Profunda/FMAP-Project/.venv/lib/python3.12/site-packages/torch/nn/modules/module.py:1751\u001b[39m, in \u001b[36mModule._wrapped_call_impl\u001b[39m\u001b[34m(self, *args, **kwargs)\u001b[39m\n\u001b[32m   1749\u001b[39m     \u001b[38;5;28;01mreturn\u001b[39;00m \u001b[38;5;28mself\u001b[39m._compiled_call_impl(*args, **kwargs)  \u001b[38;5;66;03m# type: ignore[misc]\u001b[39;00m\n\u001b[32m   1750\u001b[39m \u001b[38;5;28;01melse\u001b[39;00m:\n\u001b[32m-> \u001b[39m\u001b[32m1751\u001b[39m     \u001b[38;5;28;01mreturn\u001b[39;00m \u001b[38;5;28;43mself\u001b[39;49m\u001b[43m.\u001b[49m\u001b[43m_call_impl\u001b[49m\u001b[43m(\u001b[49m\u001b[43m*\u001b[49m\u001b[43margs\u001b[49m\u001b[43m,\u001b[49m\u001b[43m \u001b[49m\u001b[43m*\u001b[49m\u001b[43m*\u001b[49m\u001b[43mkwargs\u001b[49m\u001b[43m)\u001b[49m\n",
            "\u001b[36mFile \u001b[39m\u001b[32m/mnt/DataDisk/PersonalFiles/2025/Masters/FMAP -  Fundamentos Matemáticos para Aprendizagem Profunda/FMAP-Project/.venv/lib/python3.12/site-packages/torch/nn/modules/module.py:1762\u001b[39m, in \u001b[36mModule._call_impl\u001b[39m\u001b[34m(self, *args, **kwargs)\u001b[39m\n\u001b[32m   1757\u001b[39m \u001b[38;5;66;03m# If we don't have any hooks, we want to skip the rest of the logic in\u001b[39;00m\n\u001b[32m   1758\u001b[39m \u001b[38;5;66;03m# this function, and just call forward.\u001b[39;00m\n\u001b[32m   1759\u001b[39m \u001b[38;5;28;01mif\u001b[39;00m \u001b[38;5;129;01mnot\u001b[39;00m (\u001b[38;5;28mself\u001b[39m._backward_hooks \u001b[38;5;129;01mor\u001b[39;00m \u001b[38;5;28mself\u001b[39m._backward_pre_hooks \u001b[38;5;129;01mor\u001b[39;00m \u001b[38;5;28mself\u001b[39m._forward_hooks \u001b[38;5;129;01mor\u001b[39;00m \u001b[38;5;28mself\u001b[39m._forward_pre_hooks\n\u001b[32m   1760\u001b[39m         \u001b[38;5;129;01mor\u001b[39;00m _global_backward_pre_hooks \u001b[38;5;129;01mor\u001b[39;00m _global_backward_hooks\n\u001b[32m   1761\u001b[39m         \u001b[38;5;129;01mor\u001b[39;00m _global_forward_hooks \u001b[38;5;129;01mor\u001b[39;00m _global_forward_pre_hooks):\n\u001b[32m-> \u001b[39m\u001b[32m1762\u001b[39m     \u001b[38;5;28;01mreturn\u001b[39;00m \u001b[43mforward_call\u001b[49m\u001b[43m(\u001b[49m\u001b[43m*\u001b[49m\u001b[43margs\u001b[49m\u001b[43m,\u001b[49m\u001b[43m \u001b[49m\u001b[43m*\u001b[49m\u001b[43m*\u001b[49m\u001b[43mkwargs\u001b[49m\u001b[43m)\u001b[49m\n\u001b[32m   1764\u001b[39m result = \u001b[38;5;28;01mNone\u001b[39;00m\n\u001b[32m   1765\u001b[39m called_always_called_hooks = \u001b[38;5;28mset\u001b[39m()\n",
            "\u001b[36mFile \u001b[39m\u001b[32m/mnt/DataDisk/PersonalFiles/2025/Masters/FMAP -  Fundamentos Matemáticos para Aprendizagem Profunda/FMAP-Project/.venv/lib/python3.12/site-packages/torch/nn/modules/container.py:240\u001b[39m, in \u001b[36mSequential.forward\u001b[39m\u001b[34m(self, input)\u001b[39m\n\u001b[32m    238\u001b[39m \u001b[38;5;28;01mdef\u001b[39;00m\u001b[38;5;250m \u001b[39m\u001b[34mforward\u001b[39m(\u001b[38;5;28mself\u001b[39m, \u001b[38;5;28minput\u001b[39m):\n\u001b[32m    239\u001b[39m     \u001b[38;5;28;01mfor\u001b[39;00m module \u001b[38;5;129;01min\u001b[39;00m \u001b[38;5;28mself\u001b[39m:\n\u001b[32m--> \u001b[39m\u001b[32m240\u001b[39m         \u001b[38;5;28minput\u001b[39m = \u001b[43mmodule\u001b[49m\u001b[43m(\u001b[49m\u001b[38;5;28;43minput\u001b[39;49m\u001b[43m)\u001b[49m\n\u001b[32m    241\u001b[39m     \u001b[38;5;28;01mreturn\u001b[39;00m \u001b[38;5;28minput\u001b[39m\n",
            "\u001b[36mFile \u001b[39m\u001b[32m/mnt/DataDisk/PersonalFiles/2025/Masters/FMAP -  Fundamentos Matemáticos para Aprendizagem Profunda/FMAP-Project/.venv/lib/python3.12/site-packages/torch/nn/modules/module.py:1751\u001b[39m, in \u001b[36mModule._wrapped_call_impl\u001b[39m\u001b[34m(self, *args, **kwargs)\u001b[39m\n\u001b[32m   1749\u001b[39m     \u001b[38;5;28;01mreturn\u001b[39;00m \u001b[38;5;28mself\u001b[39m._compiled_call_impl(*args, **kwargs)  \u001b[38;5;66;03m# type: ignore[misc]\u001b[39;00m\n\u001b[32m   1750\u001b[39m \u001b[38;5;28;01melse\u001b[39;00m:\n\u001b[32m-> \u001b[39m\u001b[32m1751\u001b[39m     \u001b[38;5;28;01mreturn\u001b[39;00m \u001b[38;5;28;43mself\u001b[39;49m\u001b[43m.\u001b[49m\u001b[43m_call_impl\u001b[49m\u001b[43m(\u001b[49m\u001b[43m*\u001b[49m\u001b[43margs\u001b[49m\u001b[43m,\u001b[49m\u001b[43m \u001b[49m\u001b[43m*\u001b[49m\u001b[43m*\u001b[49m\u001b[43mkwargs\u001b[49m\u001b[43m)\u001b[49m\n",
            "\u001b[36mFile \u001b[39m\u001b[32m/mnt/DataDisk/PersonalFiles/2025/Masters/FMAP -  Fundamentos Matemáticos para Aprendizagem Profunda/FMAP-Project/.venv/lib/python3.12/site-packages/torch/nn/modules/module.py:1762\u001b[39m, in \u001b[36mModule._call_impl\u001b[39m\u001b[34m(self, *args, **kwargs)\u001b[39m\n\u001b[32m   1757\u001b[39m \u001b[38;5;66;03m# If we don't have any hooks, we want to skip the rest of the logic in\u001b[39;00m\n\u001b[32m   1758\u001b[39m \u001b[38;5;66;03m# this function, and just call forward.\u001b[39;00m\n\u001b[32m   1759\u001b[39m \u001b[38;5;28;01mif\u001b[39;00m \u001b[38;5;129;01mnot\u001b[39;00m (\u001b[38;5;28mself\u001b[39m._backward_hooks \u001b[38;5;129;01mor\u001b[39;00m \u001b[38;5;28mself\u001b[39m._backward_pre_hooks \u001b[38;5;129;01mor\u001b[39;00m \u001b[38;5;28mself\u001b[39m._forward_hooks \u001b[38;5;129;01mor\u001b[39;00m \u001b[38;5;28mself\u001b[39m._forward_pre_hooks\n\u001b[32m   1760\u001b[39m         \u001b[38;5;129;01mor\u001b[39;00m _global_backward_pre_hooks \u001b[38;5;129;01mor\u001b[39;00m _global_backward_hooks\n\u001b[32m   1761\u001b[39m         \u001b[38;5;129;01mor\u001b[39;00m _global_forward_hooks \u001b[38;5;129;01mor\u001b[39;00m _global_forward_pre_hooks):\n\u001b[32m-> \u001b[39m\u001b[32m1762\u001b[39m     \u001b[38;5;28;01mreturn\u001b[39;00m \u001b[43mforward_call\u001b[49m\u001b[43m(\u001b[49m\u001b[43m*\u001b[49m\u001b[43margs\u001b[49m\u001b[43m,\u001b[49m\u001b[43m \u001b[49m\u001b[43m*\u001b[49m\u001b[43m*\u001b[49m\u001b[43mkwargs\u001b[49m\u001b[43m)\u001b[49m\n\u001b[32m   1764\u001b[39m result = \u001b[38;5;28;01mNone\u001b[39;00m\n\u001b[32m   1765\u001b[39m called_always_called_hooks = \u001b[38;5;28mset\u001b[39m()\n",
            "\u001b[36mFile \u001b[39m\u001b[32m/mnt/DataDisk/PersonalFiles/2025/Masters/FMAP -  Fundamentos Matemáticos para Aprendizagem Profunda/FMAP-Project/.venv/lib/python3.12/site-packages/torch/nn/modules/conv.py:554\u001b[39m, in \u001b[36mConv2d.forward\u001b[39m\u001b[34m(self, input)\u001b[39m\n\u001b[32m    553\u001b[39m \u001b[38;5;28;01mdef\u001b[39;00m\u001b[38;5;250m \u001b[39m\u001b[34mforward\u001b[39m(\u001b[38;5;28mself\u001b[39m, \u001b[38;5;28minput\u001b[39m: Tensor) -> Tensor:\n\u001b[32m--> \u001b[39m\u001b[32m554\u001b[39m     \u001b[38;5;28;01mreturn\u001b[39;00m \u001b[38;5;28;43mself\u001b[39;49m\u001b[43m.\u001b[49m\u001b[43m_conv_forward\u001b[49m\u001b[43m(\u001b[49m\u001b[38;5;28;43minput\u001b[39;49m\u001b[43m,\u001b[49m\u001b[43m \u001b[49m\u001b[38;5;28;43mself\u001b[39;49m\u001b[43m.\u001b[49m\u001b[43mweight\u001b[49m\u001b[43m,\u001b[49m\u001b[43m \u001b[49m\u001b[38;5;28;43mself\u001b[39;49m\u001b[43m.\u001b[49m\u001b[43mbias\u001b[49m\u001b[43m)\u001b[49m\n",
            "\u001b[36mFile \u001b[39m\u001b[32m/mnt/DataDisk/PersonalFiles/2025/Masters/FMAP -  Fundamentos Matemáticos para Aprendizagem Profunda/FMAP-Project/.venv/lib/python3.12/site-packages/torch/nn/modules/conv.py:549\u001b[39m, in \u001b[36mConv2d._conv_forward\u001b[39m\u001b[34m(self, input, weight, bias)\u001b[39m\n\u001b[32m    537\u001b[39m \u001b[38;5;28;01mif\u001b[39;00m \u001b[38;5;28mself\u001b[39m.padding_mode != \u001b[33m\"\u001b[39m\u001b[33mzeros\u001b[39m\u001b[33m\"\u001b[39m:\n\u001b[32m    538\u001b[39m     \u001b[38;5;28;01mreturn\u001b[39;00m F.conv2d(\n\u001b[32m    539\u001b[39m         F.pad(\n\u001b[32m    540\u001b[39m             \u001b[38;5;28minput\u001b[39m, \u001b[38;5;28mself\u001b[39m._reversed_padding_repeated_twice, mode=\u001b[38;5;28mself\u001b[39m.padding_mode\n\u001b[32m   (...)\u001b[39m\u001b[32m    547\u001b[39m         \u001b[38;5;28mself\u001b[39m.groups,\n\u001b[32m    548\u001b[39m     )\n\u001b[32m--> \u001b[39m\u001b[32m549\u001b[39m \u001b[38;5;28;01mreturn\u001b[39;00m \u001b[43mF\u001b[49m\u001b[43m.\u001b[49m\u001b[43mconv2d\u001b[49m\u001b[43m(\u001b[49m\n\u001b[32m    550\u001b[39m \u001b[43m    \u001b[49m\u001b[38;5;28;43minput\u001b[39;49m\u001b[43m,\u001b[49m\u001b[43m \u001b[49m\u001b[43mweight\u001b[49m\u001b[43m,\u001b[49m\u001b[43m \u001b[49m\u001b[43mbias\u001b[49m\u001b[43m,\u001b[49m\u001b[43m \u001b[49m\u001b[38;5;28;43mself\u001b[39;49m\u001b[43m.\u001b[49m\u001b[43mstride\u001b[49m\u001b[43m,\u001b[49m\u001b[43m \u001b[49m\u001b[38;5;28;43mself\u001b[39;49m\u001b[43m.\u001b[49m\u001b[43mpadding\u001b[49m\u001b[43m,\u001b[49m\u001b[43m \u001b[49m\u001b[38;5;28;43mself\u001b[39;49m\u001b[43m.\u001b[49m\u001b[43mdilation\u001b[49m\u001b[43m,\u001b[49m\u001b[43m \u001b[49m\u001b[38;5;28;43mself\u001b[39;49m\u001b[43m.\u001b[49m\u001b[43mgroups\u001b[49m\n\u001b[32m    551\u001b[39m \u001b[43m\u001b[49m\u001b[43m)\u001b[49m\n",
            "\u001b[31mKeyboardInterrupt\u001b[39m: "
          ]
        }
      ],
      "source": [
        "import cv2\n",
        "import argparse\n",
        "import collections\n",
        "import time\n",
        "import numpy as np\n",
        "import torch\n",
        "import torch.optim as optim\n",
        "from torch.utils.tensorboard import SummaryWriter\n",
        "\n",
        "\n",
        "parser = argparse.ArgumentParser()\n",
        "parser.add_argument(\"--dev\", default=\"cpu\", help=\"Device name, default=cpu\")\n",
        "parser.add_argument(\"--env\", default=DEFAULT_ENV_NAME,\n",
        "                    help=\"Name of the environment, default=\" + DEFAULT_ENV_NAME)\n",
        "args, _ = parser.parse_known_args()\n",
        "device = torch.device(args.dev)\n",
        "\n",
        "#env = wrappers.make_env(args.env)\n",
        "env = make_env(args.env)\n",
        "net = DQN(env.observation_space.shape, env.action_space.n).to(device)\n",
        "tgt_net = DQN(env.observation_space.shape, env.action_space.n).to(device)\n",
        "writer = SummaryWriter(comment=\"-\" + args.env)\n",
        "print(net)\n",
        "\n",
        "buffer = ExperienceBuffer(REPLAY_SIZE)\n",
        "agent = Agent(env, buffer)\n",
        "epsilon = EPSILON_START\n",
        "\n",
        "optimizer = optim.Adam(net.parameters(), lr=LEARNING_RATE)\n",
        "total_rewards = []\n",
        "frame_idx = 0\n",
        "ts_frame = 0\n",
        "ts = time.time()\n",
        "best_m_reward = None\n",
        "\n",
        "\n",
        "while True:\n",
        "    frame_idx += 1\n",
        "    epsilon = max(EPSILON_FINAL, EPSILON_START - frame_idx / EPSILON_DECAY_LAST_FRAME)\n",
        "\n",
        "    reward = agent.play_step(net, device, epsilon)\n",
        "    if reward is not None:\n",
        "        total_rewards.append(reward)\n",
        "        speed = (frame_idx - ts_frame) / (time.time() - ts)\n",
        "        ts_frame = frame_idx\n",
        "        ts = time.time()\n",
        "        m_reward = np.mean(total_rewards[-100:])\n",
        "        print(f\"{frame_idx}: done {len(total_rewards)} games, reward {m_reward:.3f}, \"\n",
        "              f\"eps {epsilon:.2f}, speed {speed:.2f} f/s\")\n",
        "        writer.add_scalar(\"epsilon\", epsilon, frame_idx)\n",
        "        writer.add_scalar(\"speed\", speed, frame_idx)\n",
        "        writer.add_scalar(\"reward_100\", m_reward, frame_idx)\n",
        "        writer.add_scalar(\"reward\", reward, frame_idx)\n",
        "        if best_m_reward is None or best_m_reward < m_reward:\n",
        "            torch.save(net.state_dict(), args.env + \"-best_%.0f.dat\" % m_reward)\n",
        "            if best_m_reward is not None:\n",
        "                print(f\"Best reward updated {best_m_reward:.3f} -> {m_reward:.3f}\")\n",
        "            best_m_reward = m_reward\n",
        "        if m_reward > MEAN_REWARD_BOUND:\n",
        "            print(\"Solved in %d frames!\" % frame_idx)\n",
        "            break\n",
        "    if len(buffer) < REPLAY_START_SIZE:\n",
        "        continue\n",
        "    if frame_idx % SYNC_TARGET_FRAMES == 0:\n",
        "        tgt_net.load_state_dict(net.state_dict())\n",
        "\n",
        "    optimizer.zero_grad() # precisamos de fazer manualmente, se não acumulam, em tensorflow keras n temos\n",
        "    batch = buffer.sample(BATCH_SIZE)\n",
        "    loss_t = calc_loss(batch, net, tgt_net, device)\n",
        "    loss_t.backward()\n",
        "    optimizer.step()\n",
        "    if frame_idx % 10 == 0:\n",
        "        print(f\"training in frame {frame_idx}, Loss = {loss_t:.4f}\")\n",
        "writer.close()\n"
      ]
    },
    {
      "cell_type": "code",
      "execution_count": 24,
      "metadata": {},
      "outputs": [
        {
          "name": "stderr",
          "output_type": "stream",
          "text": [
            "IMAGEIO FFMPEG_WRITER WARNING: input image is not divisible by macro_block_size=16, resizing from (160, 210) to (160, 224) to ensure video compatibility with most codecs and players. To prevent resizing, make your input image divisible by the macro_block_size or set the macro_block_size to 1 (risking incompatibility).\n"
          ]
        },
        {
          "data": {
            "text/html": [
              "\n",
              "<div style=\"text-align:center\">\n",
              "    <h3>Agent Score: 21.0</h3>\n",
              "    <video width=\"600\" controls>\n",
              "        <source src=\"data:video/mp4;base64,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\" type=\"video/mp4\">\n",
              "    </video>\n",
              "</div>\n"
            ],
            "text/plain": [
              "<IPython.core.display.HTML object>"
            ]
          },
          "execution_count": 24,
          "metadata": {},
          "output_type": "execute_result"
        }
      ],
      "source": [
        "# %%\n",
        "import gymnasium as gym\n",
        "import imageio\n",
        "import numpy as np\n",
        "import torch\n",
        "import collections\n",
        "from stable_baselines3.common import atari_wrappers\n",
        "\n",
        "# Configuration - SET YOUR MODEL FILENAME HERE\n",
        "model_filename = \"PongNoFrameskip-v4-best_19.dat\"\n",
        "\n",
        "# Redefine necessary classes\n",
        "class ImageToPyTorch(gym.ObservationWrapper):\n",
        "    def __init__(self, env):\n",
        "        super().__init__(env)\n",
        "        obs = self.observation_space\n",
        "        new_shape = (obs.shape[-1], obs.shape[0], obs.shape[1])\n",
        "        self.observation_space = gym.spaces.Box(\n",
        "            low=obs.low.min(), high=obs.high.max(),\n",
        "            shape=new_shape, dtype=obs.dtype)\n",
        "\n",
        "    def observation(self, observation):\n",
        "        return np.moveaxis(observation, 2, 0)\n",
        "\n",
        "class BufferWrapper(gym.ObservationWrapper):\n",
        "    def __init__(self, env, n_steps):\n",
        "        super().__init__(env)\n",
        "        obs = env.observation_space\n",
        "        new_obs = gym.spaces.Box(\n",
        "            obs.low.repeat(n_steps, axis=0), obs.high.repeat(n_steps, axis=0),\n",
        "            dtype=obs.dtype)\n",
        "        self.observation_space = new_obs\n",
        "        self.buffer = collections.deque(maxlen=n_steps)\n",
        "\n",
        "    def reset(self, **kwargs):\n",
        "        self.buffer.clear()\n",
        "        obs, info = self.env.reset()\n",
        "        for _ in range(self.buffer.maxlen-1):\n",
        "            self.buffer.append(np.zeros_like(obs))\n",
        "        self.buffer.append(obs)\n",
        "        return np.concatenate(self.buffer), info\n",
        "\n",
        "    def observation(self, observation):\n",
        "        self.buffer.append(observation)\n",
        "        return np.concatenate(self.buffer)\n",
        "\n",
        "class DQN(torch.nn.Module):\n",
        "    def __init__(self, input_shape, n_actions):\n",
        "        super().__init__()\n",
        "        self.conv = torch.nn.Sequential(\n",
        "            torch.nn.Conv2d(input_shape[0], 32, kernel_size=8, stride=4),\n",
        "            torch.nn.ReLU(),\n",
        "            torch.nn.Conv2d(32, 64, kernel_size=4, stride=2),\n",
        "            torch.nn.ReLU(),\n",
        "            torch.nn.Conv2d(64, 64, kernel_size=3, stride=1),\n",
        "            torch.nn.ReLU(),\n",
        "            torch.nn.Flatten(),\n",
        "        )\n",
        "        conv_out_size = self.conv(torch.zeros(1, *input_shape)).size(1)\n",
        "        self.fc = torch.nn.Sequential(\n",
        "            torch.nn.Linear(conv_out_size, 512),\n",
        "            torch.nn.ReLU(),\n",
        "            torch.nn.Linear(512, n_actions)\n",
        "        )\n",
        "\n",
        "    def forward(self, x):\n",
        "        return self.fc(self.conv(x / 255.0))\n",
        "\n",
        "# Setup environment\n",
        "env = gym.make(\"PongNoFrameskip-v4\", render_mode=\"rgb_array\")\n",
        "env = atari_wrappers.AtariWrapper(env, clip_reward=False, noop_max=0)\n",
        "env = ImageToPyTorch(env)\n",
        "env = BufferWrapper(env, n_steps=4)\n",
        "\n",
        "# Initialize model\n",
        "device = torch.device(\"cuda\" if torch.cuda.is_available() else \"cpu\")\n",
        "net = DQN(env.observation_space.shape, env.action_space.n).to(device)\n",
        "net.load_state_dict(torch.load(model_filename, map_location=device))\n",
        "net.eval()\n",
        "\n",
        "# Run the game\n",
        "state, _ = env.reset()\n",
        "total_reward = 0.0\n",
        "frames = []\n",
        "done = False\n",
        "\n",
        "with torch.no_grad():\n",
        "    while not done:\n",
        "        frames.append(env.render())\n",
        "        state_tensor = torch.tensor(np.asarray(state), dtype=torch.float32).unsqueeze(0).to(device)\n",
        "        q_values = net(state_tensor)\n",
        "        action = torch.argmax(q_values, dim=1).item()\n",
        "        \n",
        "        new_state, reward, terminated, truncated, _ = env.step(action)\n",
        "        done = terminated or truncated\n",
        "        total_reward += reward\n",
        "        state = new_state\n",
        "\n",
        "frames.append(env.render())\n",
        "env.close()\n",
        "\n",
        "# Save and display video\n",
        "video_path = \"pong_agent.mp4\"\n",
        "imageio.mimsave(video_path, frames, fps=25)\n",
        "\n",
        "from IPython.display import HTML\n",
        "from base64 import b64encode\n",
        "\n",
        "mp4 = open(video_path, \"rb\").read()\n",
        "data_url = \"data:video/mp4;base64,\" + b64encode(mp4).decode()\n",
        "HTML(f\"\"\"\n",
        "<div style=\"text-align:center\">\n",
        "    <h3>Agent Score: {total_reward:.1f}</h3>\n",
        "    <video width=\"600\" controls>\n",
        "        <source src=\"{data_url}\" type=\"video/mp4\">\n",
        "    </video>\n",
        "</div>\n",
        "\"\"\")"
      ]
    },
    {
      "cell_type": "markdown",
      "metadata": {
        "id": "vgrTii2EhdQZ"
      },
      "source": [
        "The evolution of our agent's ability to play pong is recorded in the following collection of videos\n",
        "https://www.youtube.com/playlist?list=PLMVwuZENsfJklt4vCltrWq0KV9aEZ3ylu"
      ]
    },
    {
      "cell_type": "markdown",
      "metadata": {
        "id": "4NdwRG-rhvzl"
      },
      "source": [
        "# Worksheet #9: Rewrite Laplan's code using TensorFlow and Keras."
      ]
    }
  ],
  "metadata": {
    "colab": {
      "provenance": []
    },
    "kernelspec": {
      "display_name": ".venv",
      "language": "python",
      "name": "python3"
    },
    "language_info": {
      "codemirror_mode": {
        "name": "ipython",
        "version": 3
      },
      "file_extension": ".py",
      "mimetype": "text/x-python",
      "name": "python",
      "nbconvert_exporter": "python",
      "pygments_lexer": "ipython3",
      "version": "3.12.10"
    }
  },
  "nbformat": 4,
  "nbformat_minor": 0
}
